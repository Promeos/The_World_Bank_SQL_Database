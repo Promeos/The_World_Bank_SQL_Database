{
 "cells": [
  {
   "source": [
    "# World Bank Database"
   ],
   "cell_type": "markdown",
   "metadata": {}
  },
  {
   "cell_type": "code",
   "execution_count": 10,
   "id": "5bcf773b",
   "metadata": {},
   "outputs": [],
   "source": [
    "import pymysql\n",
    "import re\n",
    "import pandas as pd\n",
    "import numpy as np\n",
    "\n",
    "import src\n",
    "import env"
   ]
  },
  {
   "cell_type": "markdown",
   "id": "131ce7ed",
   "metadata": {},
   "source": [
    "# Acquire"
   ]
  },
  {
   "cell_type": "code",
   "execution_count": 2,
   "id": "fbdb6083",
   "metadata": {},
   "outputs": [
    {
     "output_type": "execute_result",
     "data": {
      "text/plain": [
       "       As of Date  Fiscal Year Region Borrower Country Borrower Country Code  \\\n",
       "0  3/11/2021 0:00         2000    AFE           Angola                    AO   \n",
       "1  3/11/2021 0:00         2000    AFE           Angola                    AO   \n",
       "2  3/11/2021 0:00         2000    AFE       Madagascar                    MG   \n",
       "3  3/11/2021 0:00         2000    AFE       Madagascar                    MG   \n",
       "4  3/11/2021 0:00         2000    AFE     South Africa                    ZA   \n",
       "\n",
       "  Project ID                       Project Name         Procurement Type  \\\n",
       "0    P000044               FINANCIAL INSTITUTIO  Implementation Activity   \n",
       "1    P000044               FINANCIAL INSTITUTIO  Implementation Activity   \n",
       "2    P052186                    MG-Microfinance  Implementation Activity   \n",
       "3    P052186                    MG-Microfinance  Implementation Activity   \n",
       "4    P035923  ZA-GEF Cape Penninsula SIL (FY98)  Implementation Activity   \n",
       "\n",
       "  Procurement Category                Procurement Method  ...  \\\n",
       "0  CONSULTANT SERVICES  Quality And Cost-Based Selection  ...   \n",
       "1  CONSULTANT SERVICES  Quality And Cost-Based Selection  ...   \n",
       "2  CONSULTANT SERVICES  Quality And Cost-Based Selection  ...   \n",
       "3  CONSULTANT SERVICES  Quality And Cost-Based Selection  ...   \n",
       "4  CONSULTANT SERVICES  Quality And Cost-Based Selection  ...   \n",
       "\n",
       "  WB Contract Number                               Contract Description  \\\n",
       "0            1207736               OIL SECTOR STUDY - CONTRCT WITH KPMG   \n",
       "1            1207736               OIL SECTOR STUDY - CONTRCT WITH KPMG   \n",
       "2            1116602  APPUI AU DEVELOPPEMENT DU RESEAU OTIV (TOAMASINA)   \n",
       "3            1116602  APPUI AU DEVELOPPEMENT DU RESEAU OTIV (TOAMASINA)   \n",
       "4            1116066  INSTITUTIONAL, LEGAL, POLICY, FINANCIAL, SOCIA...   \n",
       "\n",
       "   Contract Signing Date                        Supplier Supplier Country  \\\n",
       "0        11/20/2000 0:00              KPMG INTERNATIONAL   United Kingdom   \n",
       "1        11/20/2000 0:00              KPMG INTERNATIONAL   United Kingdom   \n",
       "2         9/17/1999 0:00  DEVELOPMENT INTERNA.DESJARDINS           Canada   \n",
       "3         9/17/1999 0:00  DEVELOPMENT INTERNA.DESJARDINS           Canada   \n",
       "4          7/6/1999 0:00                            CSIR     South Africa   \n",
       "\n",
       "  Supplier Country Code Supplier State Total Contract Amount (USD)  \\\n",
       "0                    GB   Not assigned                      800000   \n",
       "1                    GB   Not assigned                      800000   \n",
       "2                    CA   Not assigned                     1964922   \n",
       "3                    CA   Not assigned                     1964922   \n",
       "4                    ZA   Not assigned                      178602   \n",
       "\n",
       "  Borrower Contract Reference Number  UN Supplier Flag  \n",
       "0                  KPMG - 11/20/2000                No  \n",
       "1                  KPMG - 11/20/2000                No  \n",
       "2              1/01/10/99/AGEPMF/DID                No  \n",
       "3              1/01/10/99/AGEPMF/DID                No  \n",
       "4                           WWF-SA-3                No  \n",
       "\n",
       "[5 rows x 22 columns]"
      ],
      "text/html": "<div>\n<style scoped>\n    .dataframe tbody tr th:only-of-type {\n        vertical-align: middle;\n    }\n\n    .dataframe tbody tr th {\n        vertical-align: top;\n    }\n\n    .dataframe thead th {\n        text-align: right;\n    }\n</style>\n<table border=\"1\" class=\"dataframe\">\n  <thead>\n    <tr style=\"text-align: right;\">\n      <th></th>\n      <th>As of Date</th>\n      <th>Fiscal Year</th>\n      <th>Region</th>\n      <th>Borrower Country</th>\n      <th>Borrower Country Code</th>\n      <th>Project ID</th>\n      <th>Project Name</th>\n      <th>Procurement Type</th>\n      <th>Procurement Category</th>\n      <th>Procurement Method</th>\n      <th>...</th>\n      <th>WB Contract Number</th>\n      <th>Contract Description</th>\n      <th>Contract Signing Date</th>\n      <th>Supplier</th>\n      <th>Supplier Country</th>\n      <th>Supplier Country Code</th>\n      <th>Supplier State</th>\n      <th>Total Contract Amount (USD)</th>\n      <th>Borrower Contract Reference Number</th>\n      <th>UN Supplier Flag</th>\n    </tr>\n  </thead>\n  <tbody>\n    <tr>\n      <th>0</th>\n      <td>3/11/2021 0:00</td>\n      <td>2000</td>\n      <td>AFE</td>\n      <td>Angola</td>\n      <td>AO</td>\n      <td>P000044</td>\n      <td>FINANCIAL INSTITUTIO</td>\n      <td>Implementation Activity</td>\n      <td>CONSULTANT SERVICES</td>\n      <td>Quality And Cost-Based Selection</td>\n      <td>...</td>\n      <td>1207736</td>\n      <td>OIL SECTOR STUDY - CONTRCT WITH KPMG</td>\n      <td>11/20/2000 0:00</td>\n      <td>KPMG INTERNATIONAL</td>\n      <td>United Kingdom</td>\n      <td>GB</td>\n      <td>Not assigned</td>\n      <td>800000</td>\n      <td>KPMG - 11/20/2000</td>\n      <td>No</td>\n    </tr>\n    <tr>\n      <th>1</th>\n      <td>3/11/2021 0:00</td>\n      <td>2000</td>\n      <td>AFE</td>\n      <td>Angola</td>\n      <td>AO</td>\n      <td>P000044</td>\n      <td>FINANCIAL INSTITUTIO</td>\n      <td>Implementation Activity</td>\n      <td>CONSULTANT SERVICES</td>\n      <td>Quality And Cost-Based Selection</td>\n      <td>...</td>\n      <td>1207736</td>\n      <td>OIL SECTOR STUDY - CONTRCT WITH KPMG</td>\n      <td>11/20/2000 0:00</td>\n      <td>KPMG INTERNATIONAL</td>\n      <td>United Kingdom</td>\n      <td>GB</td>\n      <td>Not assigned</td>\n      <td>800000</td>\n      <td>KPMG - 11/20/2000</td>\n      <td>No</td>\n    </tr>\n    <tr>\n      <th>2</th>\n      <td>3/11/2021 0:00</td>\n      <td>2000</td>\n      <td>AFE</td>\n      <td>Madagascar</td>\n      <td>MG</td>\n      <td>P052186</td>\n      <td>MG-Microfinance</td>\n      <td>Implementation Activity</td>\n      <td>CONSULTANT SERVICES</td>\n      <td>Quality And Cost-Based Selection</td>\n      <td>...</td>\n      <td>1116602</td>\n      <td>APPUI AU DEVELOPPEMENT DU RESEAU OTIV (TOAMASINA)</td>\n      <td>9/17/1999 0:00</td>\n      <td>DEVELOPMENT INTERNA.DESJARDINS</td>\n      <td>Canada</td>\n      <td>CA</td>\n      <td>Not assigned</td>\n      <td>1964922</td>\n      <td>1/01/10/99/AGEPMF/DID</td>\n      <td>No</td>\n    </tr>\n    <tr>\n      <th>3</th>\n      <td>3/11/2021 0:00</td>\n      <td>2000</td>\n      <td>AFE</td>\n      <td>Madagascar</td>\n      <td>MG</td>\n      <td>P052186</td>\n      <td>MG-Microfinance</td>\n      <td>Implementation Activity</td>\n      <td>CONSULTANT SERVICES</td>\n      <td>Quality And Cost-Based Selection</td>\n      <td>...</td>\n      <td>1116602</td>\n      <td>APPUI AU DEVELOPPEMENT DU RESEAU OTIV (TOAMASINA)</td>\n      <td>9/17/1999 0:00</td>\n      <td>DEVELOPMENT INTERNA.DESJARDINS</td>\n      <td>Canada</td>\n      <td>CA</td>\n      <td>Not assigned</td>\n      <td>1964922</td>\n      <td>1/01/10/99/AGEPMF/DID</td>\n      <td>No</td>\n    </tr>\n    <tr>\n      <th>4</th>\n      <td>3/11/2021 0:00</td>\n      <td>2000</td>\n      <td>AFE</td>\n      <td>South Africa</td>\n      <td>ZA</td>\n      <td>P035923</td>\n      <td>ZA-GEF Cape Penninsula SIL (FY98)</td>\n      <td>Implementation Activity</td>\n      <td>CONSULTANT SERVICES</td>\n      <td>Quality And Cost-Based Selection</td>\n      <td>...</td>\n      <td>1116066</td>\n      <td>INSTITUTIONAL, LEGAL, POLICY, FINANCIAL, SOCIA...</td>\n      <td>7/6/1999 0:00</td>\n      <td>CSIR</td>\n      <td>South Africa</td>\n      <td>ZA</td>\n      <td>Not assigned</td>\n      <td>178602</td>\n      <td>WWF-SA-3</td>\n      <td>No</td>\n    </tr>\n  </tbody>\n</table>\n<p>5 rows × 22 columns</p>\n</div>"
     },
     "metadata": {},
     "execution_count": 2
    }
   ],
   "source": [
    "df = src.get_contract_data()\n",
    "df.head()"
   ]
  },
  {
   "cell_type": "code",
   "execution_count": 3,
   "id": "0c8d5ddb",
   "metadata": {},
   "outputs": [
    {
     "output_type": "stream",
     "name": "stdout",
     "text": [
      "<class 'pandas.core.frame.DataFrame'>\nRangeIndex: 246724 entries, 0 to 246723\nData columns (total 22 columns):\n #   Column                              Non-Null Count   Dtype \n---  ------                              --------------   ----- \n 0   As of Date                          246724 non-null  object\n 1   Fiscal Year                         246724 non-null  int64 \n 2   Region                              246724 non-null  object\n 3   Borrower Country                    246724 non-null  object\n 4   Borrower Country Code               246714 non-null  object\n 5   Project ID                          246724 non-null  object\n 6   Project Name                        246724 non-null  object\n 7   Procurement Type                    246724 non-null  object\n 8   Procurement Category                246724 non-null  object\n 9   Procurement Method                  246724 non-null  object\n 10  Product line                        246724 non-null  object\n 11  Major Sector                        246724 non-null  object\n 12  WB Contract Number                  246724 non-null  int64 \n 13  Contract Description                246718 non-null  object\n 14  Contract Signing Date               241839 non-null  object\n 15  Supplier                            246723 non-null  object\n 16  Supplier Country                    246724 non-null  object\n 17  Supplier Country Code               246705 non-null  object\n 18  Supplier State                      246724 non-null  object\n 19  Total Contract Amount (USD)         246724 non-null  int64 \n 20  Borrower Contract Reference Number  246143 non-null  object\n 21  UN Supplier Flag                    246724 non-null  object\ndtypes: int64(3), object(19)\nmemory usage: 41.4+ MB\n"
     ]
    }
   ],
   "source": [
    "df.info()"
   ]
  },
  {
   "cell_type": "markdown",
   "id": "e2da9449",
   "metadata": {},
   "source": [
    "# Prepare\n",
    "\n",
    "## Connect to MySQL Database"
   ]
  },
  {
   "cell_type": "code",
   "execution_count": 4,
   "metadata": {},
   "outputs": [
    {
     "output_type": "execute_result",
     "data": {
      "text/plain": [
       "0"
      ]
     },
     "metadata": {},
     "execution_count": 4
    }
   ],
   "source": [
    "cnx = pymysql.connect(user=env.user, password=env.password, host='localhost', port=3306)\n",
    "thread = src.get_connection(env.user, env.password)\n",
    "\n",
    "cursor = cnx.cursor()\n",
    "\n",
    "cursor.execute(\"CREATE DATABASE IF NOT EXISTS worldbank;\")\n",
    "cursor.execute(\"USE worldbank;\")"
   ]
  },
  {
   "source": [
    "## Commit to MySQL Database"
   ],
   "cell_type": "markdown",
   "metadata": {}
  },
  {
   "cell_type": "code",
   "execution_count": 5,
   "metadata": {},
   "outputs": [],
   "source": [
    "# Write 5 rows of data to the new database to test the connection.\n",
    "df.head().to_sql(name='test',\n",
    "                 con = thread,\n",
    "                 if_exists='replace',\n",
    "                 index=False)"
   ]
  },
  {
   "source": [
    "## Load data from MySQL Database"
   ],
   "cell_type": "markdown",
   "metadata": {}
  },
  {
   "cell_type": "code",
   "execution_count": 6,
   "id": "d58e4875",
   "metadata": {},
   "outputs": [
    {
     "output_type": "execute_result",
     "data": {
      "text/plain": [
       "       As of Date  Fiscal Year Region Borrower Country Borrower Country Code  \\\n",
       "0  3/11/2021 0:00         2000    AFE           Angola                    AO   \n",
       "1  3/11/2021 0:00         2000    AFE           Angola                    AO   \n",
       "2  3/11/2021 0:00         2000    AFE       Madagascar                    MG   \n",
       "3  3/11/2021 0:00         2000    AFE       Madagascar                    MG   \n",
       "4  3/11/2021 0:00         2000    AFE     South Africa                    ZA   \n",
       "\n",
       "  Project ID                       Project Name         Procurement Type  \\\n",
       "0    P000044               FINANCIAL INSTITUTIO  Implementation Activity   \n",
       "1    P000044               FINANCIAL INSTITUTIO  Implementation Activity   \n",
       "2    P052186                    MG-Microfinance  Implementation Activity   \n",
       "3    P052186                    MG-Microfinance  Implementation Activity   \n",
       "4    P035923  ZA-GEF Cape Penninsula SIL (FY98)  Implementation Activity   \n",
       "\n",
       "  Procurement Category                Procurement Method  ...  \\\n",
       "0  CONSULTANT SERVICES  Quality And Cost-Based Selection  ...   \n",
       "1  CONSULTANT SERVICES  Quality And Cost-Based Selection  ...   \n",
       "2  CONSULTANT SERVICES  Quality And Cost-Based Selection  ...   \n",
       "3  CONSULTANT SERVICES  Quality And Cost-Based Selection  ...   \n",
       "4  CONSULTANT SERVICES  Quality And Cost-Based Selection  ...   \n",
       "\n",
       "  WB Contract Number                               Contract Description  \\\n",
       "0            1207736               OIL SECTOR STUDY - CONTRCT WITH KPMG   \n",
       "1            1207736               OIL SECTOR STUDY - CONTRCT WITH KPMG   \n",
       "2            1116602  APPUI AU DEVELOPPEMENT DU RESEAU OTIV (TOAMASINA)   \n",
       "3            1116602  APPUI AU DEVELOPPEMENT DU RESEAU OTIV (TOAMASINA)   \n",
       "4            1116066  INSTITUTIONAL, LEGAL, POLICY, FINANCIAL, SOCIA...   \n",
       "\n",
       "   Contract Signing Date                        Supplier Supplier Country  \\\n",
       "0        11/20/2000 0:00              KPMG INTERNATIONAL   United Kingdom   \n",
       "1        11/20/2000 0:00              KPMG INTERNATIONAL   United Kingdom   \n",
       "2         9/17/1999 0:00  DEVELOPMENT INTERNA.DESJARDINS           Canada   \n",
       "3         9/17/1999 0:00  DEVELOPMENT INTERNA.DESJARDINS           Canada   \n",
       "4          7/6/1999 0:00                            CSIR     South Africa   \n",
       "\n",
       "  Supplier Country Code Supplier State Total Contract Amount (USD)  \\\n",
       "0                    GB   Not assigned                      800000   \n",
       "1                    GB   Not assigned                      800000   \n",
       "2                    CA   Not assigned                     1964922   \n",
       "3                    CA   Not assigned                     1964922   \n",
       "4                    ZA   Not assigned                      178602   \n",
       "\n",
       "  Borrower Contract Reference Number  UN Supplier Flag  \n",
       "0                  KPMG - 11/20/2000                No  \n",
       "1                  KPMG - 11/20/2000                No  \n",
       "2              1/01/10/99/AGEPMF/DID                No  \n",
       "3              1/01/10/99/AGEPMF/DID                No  \n",
       "4                           WWF-SA-3                No  \n",
       "\n",
       "[5 rows x 22 columns]"
      ],
      "text/html": "<div>\n<style scoped>\n    .dataframe tbody tr th:only-of-type {\n        vertical-align: middle;\n    }\n\n    .dataframe tbody tr th {\n        vertical-align: top;\n    }\n\n    .dataframe thead th {\n        text-align: right;\n    }\n</style>\n<table border=\"1\" class=\"dataframe\">\n  <thead>\n    <tr style=\"text-align: right;\">\n      <th></th>\n      <th>As of Date</th>\n      <th>Fiscal Year</th>\n      <th>Region</th>\n      <th>Borrower Country</th>\n      <th>Borrower Country Code</th>\n      <th>Project ID</th>\n      <th>Project Name</th>\n      <th>Procurement Type</th>\n      <th>Procurement Category</th>\n      <th>Procurement Method</th>\n      <th>...</th>\n      <th>WB Contract Number</th>\n      <th>Contract Description</th>\n      <th>Contract Signing Date</th>\n      <th>Supplier</th>\n      <th>Supplier Country</th>\n      <th>Supplier Country Code</th>\n      <th>Supplier State</th>\n      <th>Total Contract Amount (USD)</th>\n      <th>Borrower Contract Reference Number</th>\n      <th>UN Supplier Flag</th>\n    </tr>\n  </thead>\n  <tbody>\n    <tr>\n      <th>0</th>\n      <td>3/11/2021 0:00</td>\n      <td>2000</td>\n      <td>AFE</td>\n      <td>Angola</td>\n      <td>AO</td>\n      <td>P000044</td>\n      <td>FINANCIAL INSTITUTIO</td>\n      <td>Implementation Activity</td>\n      <td>CONSULTANT SERVICES</td>\n      <td>Quality And Cost-Based Selection</td>\n      <td>...</td>\n      <td>1207736</td>\n      <td>OIL SECTOR STUDY - CONTRCT WITH KPMG</td>\n      <td>11/20/2000 0:00</td>\n      <td>KPMG INTERNATIONAL</td>\n      <td>United Kingdom</td>\n      <td>GB</td>\n      <td>Not assigned</td>\n      <td>800000</td>\n      <td>KPMG - 11/20/2000</td>\n      <td>No</td>\n    </tr>\n    <tr>\n      <th>1</th>\n      <td>3/11/2021 0:00</td>\n      <td>2000</td>\n      <td>AFE</td>\n      <td>Angola</td>\n      <td>AO</td>\n      <td>P000044</td>\n      <td>FINANCIAL INSTITUTIO</td>\n      <td>Implementation Activity</td>\n      <td>CONSULTANT SERVICES</td>\n      <td>Quality And Cost-Based Selection</td>\n      <td>...</td>\n      <td>1207736</td>\n      <td>OIL SECTOR STUDY - CONTRCT WITH KPMG</td>\n      <td>11/20/2000 0:00</td>\n      <td>KPMG INTERNATIONAL</td>\n      <td>United Kingdom</td>\n      <td>GB</td>\n      <td>Not assigned</td>\n      <td>800000</td>\n      <td>KPMG - 11/20/2000</td>\n      <td>No</td>\n    </tr>\n    <tr>\n      <th>2</th>\n      <td>3/11/2021 0:00</td>\n      <td>2000</td>\n      <td>AFE</td>\n      <td>Madagascar</td>\n      <td>MG</td>\n      <td>P052186</td>\n      <td>MG-Microfinance</td>\n      <td>Implementation Activity</td>\n      <td>CONSULTANT SERVICES</td>\n      <td>Quality And Cost-Based Selection</td>\n      <td>...</td>\n      <td>1116602</td>\n      <td>APPUI AU DEVELOPPEMENT DU RESEAU OTIV (TOAMASINA)</td>\n      <td>9/17/1999 0:00</td>\n      <td>DEVELOPMENT INTERNA.DESJARDINS</td>\n      <td>Canada</td>\n      <td>CA</td>\n      <td>Not assigned</td>\n      <td>1964922</td>\n      <td>1/01/10/99/AGEPMF/DID</td>\n      <td>No</td>\n    </tr>\n    <tr>\n      <th>3</th>\n      <td>3/11/2021 0:00</td>\n      <td>2000</td>\n      <td>AFE</td>\n      <td>Madagascar</td>\n      <td>MG</td>\n      <td>P052186</td>\n      <td>MG-Microfinance</td>\n      <td>Implementation Activity</td>\n      <td>CONSULTANT SERVICES</td>\n      <td>Quality And Cost-Based Selection</td>\n      <td>...</td>\n      <td>1116602</td>\n      <td>APPUI AU DEVELOPPEMENT DU RESEAU OTIV (TOAMASINA)</td>\n      <td>9/17/1999 0:00</td>\n      <td>DEVELOPMENT INTERNA.DESJARDINS</td>\n      <td>Canada</td>\n      <td>CA</td>\n      <td>Not assigned</td>\n      <td>1964922</td>\n      <td>1/01/10/99/AGEPMF/DID</td>\n      <td>No</td>\n    </tr>\n    <tr>\n      <th>4</th>\n      <td>3/11/2021 0:00</td>\n      <td>2000</td>\n      <td>AFE</td>\n      <td>South Africa</td>\n      <td>ZA</td>\n      <td>P035923</td>\n      <td>ZA-GEF Cape Penninsula SIL (FY98)</td>\n      <td>Implementation Activity</td>\n      <td>CONSULTANT SERVICES</td>\n      <td>Quality And Cost-Based Selection</td>\n      <td>...</td>\n      <td>1116066</td>\n      <td>INSTITUTIONAL, LEGAL, POLICY, FINANCIAL, SOCIA...</td>\n      <td>7/6/1999 0:00</td>\n      <td>CSIR</td>\n      <td>South Africa</td>\n      <td>ZA</td>\n      <td>Not assigned</td>\n      <td>178602</td>\n      <td>WWF-SA-3</td>\n      <td>No</td>\n    </tr>\n  </tbody>\n</table>\n<p>5 rows × 22 columns</p>\n</div>"
     },
     "metadata": {},
     "execution_count": 6
    }
   ],
   "source": [
    "# Read data from the table.\n",
    "pd.read_sql(\"\"\"SELECT * FROM test;\"\"\", thread)"
   ]
  },
  {
   "source": [
    "## Database Prep\n",
    "- Clean column names\n",
    "- Drop columns\n",
    "- Create seperate tables"
   ],
   "cell_type": "markdown",
   "metadata": {}
  },
  {
   "cell_type": "code",
   "execution_count": 9,
   "metadata": {},
   "outputs": [
    {
     "output_type": "stream",
     "name": "stdout",
     "text": [
      "['As of Date', 'Fiscal Year', 'Region', 'Borrower Country', 'Borrower Country Code', 'Project ID', 'Project Name', 'Procurement Type', 'Procurement Category', 'Procurement Method', 'Product line', 'Major Sector', 'WB Contract Number', 'Contract Description', 'Contract Signing Date', 'Supplier', 'Supplier Country', 'Supplier Country Code', 'Supplier State', 'Total Contract Amount (USD)', 'Borrower Contract Reference Number', 'UN Supplier Flag']\n"
     ]
    }
   ],
   "source": [
    "cols = list(df.columns)\n",
    "print(cols)"
   ]
  },
  {
   "cell_type": "code",
   "execution_count": 17,
   "metadata": {},
   "outputs": [
    {
     "output_type": "execute_result",
     "data": {
      "text/plain": [
       "['AsofDate',\n",
       " 'FiscalYear',\n",
       " 'Region',\n",
       " 'BorrowerCountry',\n",
       " 'BorrowerCountryCode',\n",
       " 'ProjectID',\n",
       " 'ProjectName',\n",
       " 'ProcurementType',\n",
       " 'ProcurementCategory',\n",
       " 'ProcurementMethod',\n",
       " 'Productline',\n",
       " 'MajorSector',\n",
       " 'WBContractNumber',\n",
       " 'ContractDescription',\n",
       " 'ContractSigningDate',\n",
       " 'Supplier',\n",
       " 'SupplierCountry',\n",
       " 'SupplierCountryCode',\n",
       " 'SupplierState',\n",
       " 'TotalContractAmount(USD)',\n",
       " 'BorrowerContractReferenceNumber',\n",
       " 'UNSupplierFlag']"
      ]
     },
     "metadata": {},
     "execution_count": 17
    }
   ],
   "source": [
    "[col.replace(' ', '') for col in cols]"
   ]
  },
  {
   "cell_type": "code",
   "execution_count": 18,
   "metadata": {},
   "outputs": [],
   "source": [
    "df.columns = [col.replace(' ', '') for col in cols]"
   ]
  },
  {
   "cell_type": "code",
   "execution_count": 20,
   "metadata": {},
   "outputs": [
    {
     "output_type": "stream",
     "name": "stdout",
     "text": [
      "<class 'pandas.core.frame.DataFrame'>\nRangeIndex: 246724 entries, 0 to 246723\nData columns (total 22 columns):\n #   Column                           Non-Null Count   Dtype \n---  ------                           --------------   ----- \n 0   AsofDate                         246724 non-null  object\n 1   FiscalYear                       246724 non-null  int64 \n 2   Region                           246724 non-null  object\n 3   BorrowerCountry                  246724 non-null  object\n 4   BorrowerCountryCode              246714 non-null  object\n 5   ProjectID                        246724 non-null  object\n 6   ProjectName                      246724 non-null  object\n 7   ProcurementType                  246724 non-null  object\n 8   ProcurementCategory              246724 non-null  object\n 9   ProcurementMethod                246724 non-null  object\n 10  Productline                      246724 non-null  object\n 11  MajorSector                      246724 non-null  object\n 12  WBContractNumber                 246724 non-null  int64 \n 13  ContractDescription              246718 non-null  object\n 14  ContractSigningDate              241839 non-null  object\n 15  Supplier                         246723 non-null  object\n 16  SupplierCountry                  246724 non-null  object\n 17  SupplierCountryCode              246705 non-null  object\n 18  SupplierState                    246724 non-null  object\n 19  TotalContractAmount(USD)         246724 non-null  int64 \n 20  BorrowerContractReferenceNumber  246143 non-null  object\n 21  UNSupplierFlag                   246724 non-null  object\ndtypes: int64(3), object(19)\nmemory usage: 41.4+ MB\n"
     ]
    }
   ],
   "source": [
    "df.info()"
   ]
  },
  {
   "cell_type": "code",
   "execution_count": 19,
   "metadata": {},
   "outputs": [
    {
     "output_type": "execute_result",
     "data": {
      "text/plain": [
       "          FiscalYear  WBContractNumber  TotalContractAmount(USD)\n",
       "count  246724.000000      2.467240e+05              2.467240e+05\n",
       "mean     2007.633372      1.315400e+06              9.974960e+05\n",
       "std         5.627280      1.297228e+05              8.679100e+06\n",
       "min      2000.000000      1.100552e+06             -1.430000e+02\n",
       "25%      2002.000000      1.225155e+06              2.822500e+04\n",
       "50%      2007.000000      1.268570e+06              9.582750e+04\n",
       "75%      2012.000000      1.325667e+06              3.552242e+05\n",
       "max      2021.000000      1.648433e+06              1.956748e+09"
      ],
      "text/html": "<div>\n<style scoped>\n    .dataframe tbody tr th:only-of-type {\n        vertical-align: middle;\n    }\n\n    .dataframe tbody tr th {\n        vertical-align: top;\n    }\n\n    .dataframe thead th {\n        text-align: right;\n    }\n</style>\n<table border=\"1\" class=\"dataframe\">\n  <thead>\n    <tr style=\"text-align: right;\">\n      <th></th>\n      <th>FiscalYear</th>\n      <th>WBContractNumber</th>\n      <th>TotalContractAmount(USD)</th>\n    </tr>\n  </thead>\n  <tbody>\n    <tr>\n      <th>count</th>\n      <td>246724.000000</td>\n      <td>2.467240e+05</td>\n      <td>2.467240e+05</td>\n    </tr>\n    <tr>\n      <th>mean</th>\n      <td>2007.633372</td>\n      <td>1.315400e+06</td>\n      <td>9.974960e+05</td>\n    </tr>\n    <tr>\n      <th>std</th>\n      <td>5.627280</td>\n      <td>1.297228e+05</td>\n      <td>8.679100e+06</td>\n    </tr>\n    <tr>\n      <th>min</th>\n      <td>2000.000000</td>\n      <td>1.100552e+06</td>\n      <td>-1.430000e+02</td>\n    </tr>\n    <tr>\n      <th>25%</th>\n      <td>2002.000000</td>\n      <td>1.225155e+06</td>\n      <td>2.822500e+04</td>\n    </tr>\n    <tr>\n      <th>50%</th>\n      <td>2007.000000</td>\n      <td>1.268570e+06</td>\n      <td>9.582750e+04</td>\n    </tr>\n    <tr>\n      <th>75%</th>\n      <td>2012.000000</td>\n      <td>1.325667e+06</td>\n      <td>3.552242e+05</td>\n    </tr>\n    <tr>\n      <th>max</th>\n      <td>2021.000000</td>\n      <td>1.648433e+06</td>\n      <td>1.956748e+09</td>\n    </tr>\n  </tbody>\n</table>\n</div>"
     },
     "metadata": {},
     "execution_count": 19
    }
   ],
   "source": [
    "df.describe()"
   ]
  },
  {
   "cell_type": "code",
   "execution_count": 25,
   "metadata": {},
   "outputs": [
    {
     "output_type": "execute_result",
     "data": {
      "text/plain": [
       "                                  count  unique  \\\n",
       "AsofDate                         246724       1   \n",
       "UNSupplierFlag                   246724       2   \n",
       "SupplierState                    246724      51   \n",
       "Productline                      246724      18   \n",
       "ProcurementCategory              246724       4   \n",
       "MajorSector                      246724      21   \n",
       "ProcurementMethod                246724      30   \n",
       "Region                           246724       9   \n",
       "ProcurementType                  246724      68   \n",
       "SupplierCountry                  246724     213   \n",
       "BorrowerCountry                  246724     176   \n",
       "ProjectName                      246724    7412   \n",
       "ProjectID                        246724    7538   \n",
       "Supplier                         246723  111355   \n",
       "ContractDescription              246718  145439   \n",
       "BorrowerCountryCode              246714     175   \n",
       "SupplierCountryCode              246705     212   \n",
       "BorrowerContractReferenceNumber  246143  149009   \n",
       "ContractSigningDate              241839    7813   \n",
       "\n",
       "                                                               top    freq  \n",
       "AsofDate                                            3/11/2021 0:00  246724  \n",
       "UNSupplierFlag                                                  No  244945  \n",
       "SupplierState                                         Not assigned  241333  \n",
       "Productline                                               IBRD/IDA  217662  \n",
       "ProcurementCategory                            CONSULTANT SERVICES  123814  \n",
       "MajorSector                                           Public Admin   55922  \n",
       "ProcurementMethod                International Competitive Bidding   53797  \n",
       "Region                                                         LCR   49902  \n",
       "ProcurementType                       Management /Technical Advice   27525  \n",
       "SupplierCountry                                              India   14040  \n",
       "BorrowerCountry                                              China   12871  \n",
       "ProjectName                                              COMM DEVT    1310  \n",
       "ProjectID                                                  P070995    1300  \n",
       "Supplier                                            AGETIP-SENEGAL     761  \n",
       "ContractDescription                              MEDICAL EQUIPMENT     425  \n",
       "BorrowerCountryCode                                             CN   12871  \n",
       "SupplierCountryCode                                             IN   14040  \n",
       "BorrowerContractReferenceNumber                                  #    8390  \n",
       "ContractSigningDate                                 2/16/2005 0:00     264  "
      ],
      "text/html": "<div>\n<style scoped>\n    .dataframe tbody tr th:only-of-type {\n        vertical-align: middle;\n    }\n\n    .dataframe tbody tr th {\n        vertical-align: top;\n    }\n\n    .dataframe thead th {\n        text-align: right;\n    }\n</style>\n<table border=\"1\" class=\"dataframe\">\n  <thead>\n    <tr style=\"text-align: right;\">\n      <th></th>\n      <th>count</th>\n      <th>unique</th>\n      <th>top</th>\n      <th>freq</th>\n    </tr>\n  </thead>\n  <tbody>\n    <tr>\n      <th>AsofDate</th>\n      <td>246724</td>\n      <td>1</td>\n      <td>3/11/2021 0:00</td>\n      <td>246724</td>\n    </tr>\n    <tr>\n      <th>UNSupplierFlag</th>\n      <td>246724</td>\n      <td>2</td>\n      <td>No</td>\n      <td>244945</td>\n    </tr>\n    <tr>\n      <th>SupplierState</th>\n      <td>246724</td>\n      <td>51</td>\n      <td>Not assigned</td>\n      <td>241333</td>\n    </tr>\n    <tr>\n      <th>Productline</th>\n      <td>246724</td>\n      <td>18</td>\n      <td>IBRD/IDA</td>\n      <td>217662</td>\n    </tr>\n    <tr>\n      <th>ProcurementCategory</th>\n      <td>246724</td>\n      <td>4</td>\n      <td>CONSULTANT SERVICES</td>\n      <td>123814</td>\n    </tr>\n    <tr>\n      <th>MajorSector</th>\n      <td>246724</td>\n      <td>21</td>\n      <td>Public Admin</td>\n      <td>55922</td>\n    </tr>\n    <tr>\n      <th>ProcurementMethod</th>\n      <td>246724</td>\n      <td>30</td>\n      <td>International Competitive Bidding</td>\n      <td>53797</td>\n    </tr>\n    <tr>\n      <th>Region</th>\n      <td>246724</td>\n      <td>9</td>\n      <td>LCR</td>\n      <td>49902</td>\n    </tr>\n    <tr>\n      <th>ProcurementType</th>\n      <td>246724</td>\n      <td>68</td>\n      <td>Management /Technical Advice</td>\n      <td>27525</td>\n    </tr>\n    <tr>\n      <th>SupplierCountry</th>\n      <td>246724</td>\n      <td>213</td>\n      <td>India</td>\n      <td>14040</td>\n    </tr>\n    <tr>\n      <th>BorrowerCountry</th>\n      <td>246724</td>\n      <td>176</td>\n      <td>China</td>\n      <td>12871</td>\n    </tr>\n    <tr>\n      <th>ProjectName</th>\n      <td>246724</td>\n      <td>7412</td>\n      <td>COMM DEVT</td>\n      <td>1310</td>\n    </tr>\n    <tr>\n      <th>ProjectID</th>\n      <td>246724</td>\n      <td>7538</td>\n      <td>P070995</td>\n      <td>1300</td>\n    </tr>\n    <tr>\n      <th>Supplier</th>\n      <td>246723</td>\n      <td>111355</td>\n      <td>AGETIP-SENEGAL</td>\n      <td>761</td>\n    </tr>\n    <tr>\n      <th>ContractDescription</th>\n      <td>246718</td>\n      <td>145439</td>\n      <td>MEDICAL EQUIPMENT</td>\n      <td>425</td>\n    </tr>\n    <tr>\n      <th>BorrowerCountryCode</th>\n      <td>246714</td>\n      <td>175</td>\n      <td>CN</td>\n      <td>12871</td>\n    </tr>\n    <tr>\n      <th>SupplierCountryCode</th>\n      <td>246705</td>\n      <td>212</td>\n      <td>IN</td>\n      <td>14040</td>\n    </tr>\n    <tr>\n      <th>BorrowerContractReferenceNumber</th>\n      <td>246143</td>\n      <td>149009</td>\n      <td>#</td>\n      <td>8390</td>\n    </tr>\n    <tr>\n      <th>ContractSigningDate</th>\n      <td>241839</td>\n      <td>7813</td>\n      <td>2/16/2005 0:00</td>\n      <td>264</td>\n    </tr>\n  </tbody>\n</table>\n</div>"
     },
     "metadata": {},
     "execution_count": 25
    }
   ],
   "source": [
    "df.describe(include='O').T.sort_values(by=['count', 'freq'], ascending=False)"
   ]
  },
  {
   "cell_type": "code",
   "execution_count": 30,
   "metadata": {},
   "outputs": [],
   "source": [
    "df.drop(columns='AsofDate', inplace=True)"
   ]
  },
  {
   "cell_type": "code",
   "execution_count": 35,
   "metadata": {},
   "outputs": [],
   "source": [
    "df.ContractSigningDate = pd.to_datetime(df.ContractSigningDate)"
   ]
  },
  {
   "cell_type": "code",
   "execution_count": 39,
   "metadata": {},
   "outputs": [],
   "source": [
    "df.UNSupplierFlag = np.where(df.UNSupplierFlag == 'No', False, True)"
   ]
  },
  {
   "cell_type": "code",
   "execution_count": 43,
   "metadata": {},
   "outputs": [
    {
     "output_type": "execute_result",
     "data": {
      "text/plain": [
       "#                                   8390\n",
       "UNKNOWN                              304\n",
       "NONE                                 165\n",
       "1                                    110\n",
       "CONSULTING SERVICES                   91\n",
       "AF MHSIP-7819-ME-CS-IC-SSS-10- B      88\n",
       "RS-DILS-7510YF-CS-IC-09-C.2.5.9.      81\n",
       "BIRF-7969-PE                          72\n",
       "2                                     65\n",
       "PIU CONSULTANTS                       61\n",
       "WBR NO. 4                             54\n",
       "WBR NO. 5                             52\n",
       "WBR NO. 1                             50\n",
       "WBR NO. 16                            49\n",
       "3                                     49\n",
       "WBR NO. 22                            48\n",
       "PROCUREMENT SPECIALIST                48\n",
       "WBR NO. 15                            46\n",
       "WBR NO. 17                            46\n",
       "SRB-PARIP-4071YF-IC-CS-07-17-DB-      45\n",
       "Name: BorrowerContractReferenceNumber, dtype: int64"
      ]
     },
     "metadata": {},
     "execution_count": 43
    }
   ],
   "source": [
    "df.BorrowerContractReferenceNumber.value_counts().nlargest(20)"
   ]
  },
  {
   "cell_type": "code",
   "execution_count": 44,
   "metadata": {},
   "outputs": [
    {
     "output_type": "execute_result",
     "data": {
      "text/plain": [
       "        FiscalYear Region  BorrowerCountry BorrowerCountryCode ProjectID  \\\n",
       "4751          2000    AFE       Mozambique                  MZ   P001797   \n",
       "72662         2003    EAP          Vietnam                  VN   P052037   \n",
       "94178         2005    LCR           Brazil                  BR   P094715   \n",
       "103773        2005    AFE            Kenya                  KE   P083250   \n",
       "104328        2005    AFE       Mozambique                  MZ   P086169   \n",
       "...            ...    ...              ...                 ...       ...   \n",
       "237805        2018    MNA  Egypt, Arab Rep                  EG   P113416   \n",
       "238137        2018    MNA  Egypt, Arab Rep                  EG   P113416   \n",
       "238174        2018    MNA  Egypt, Arab Rep                  EG   P100047   \n",
       "238405        2018    LCR            Haiti                  HT   P127203   \n",
       "238640        2018    LCR            Haiti                  HT   P127203   \n",
       "\n",
       "                                   ProjectName               ProcurementType  \\\n",
       "4751      CAPACITY BUILDING HUMAN DEV. PROJECT       Implementation Activity   \n",
       "72662                    VN-HCMC ENVMTL SANIT.      Construction Supervision   \n",
       "94178       BR GEF National Biod Mainstreaming                 Miscellaneous   \n",
       "103773                Financial & Legal Sec TA            Project Management   \n",
       "104328          MZ-Financial Sector TA Project  Management /Technical Advice   \n",
       "...                                        ...                           ...   \n",
       "237805               EG-Wind Power Development         Equipment, Electrical   \n",
       "238137               EG-Wind Power Development         Equipment, Electrical   \n",
       "238174                     EG-Ain Sokhna Power         Equipment, Electrical   \n",
       "238405  HT Rebuilding Energy Infrastr & Access      Construction Supervision   \n",
       "238640  HT Rebuilding Energy Infrastr & Access  Management /Technical Advice   \n",
       "\n",
       "        ProcurementCategory                    ProcurementMethod Productline  \\\n",
       "4751    CONSULTANT SERVICES     Quality And Cost-Based Selection    IBRD/IDA   \n",
       "72662   CONSULTANT SERVICES     Quality And Cost-Based Selection    IBRD/IDA   \n",
       "94178                 GOODS         National Competitive Bidding         GEF   \n",
       "103773  CONSULTANT SERVICES  Consultant Qualification  Selection    IBRD/IDA   \n",
       "104328  CONSULTANT SERVICES      Individual Consultant Selection    IBRD/IDA   \n",
       "...                     ...                                  ...         ...   \n",
       "237805                GOODS    International Competitive Bidding    IBRD/IDA   \n",
       "238137                GOODS    International Competitive Bidding    IBRD/IDA   \n",
       "238174                GOODS    International Competitive Bidding    IBRD/IDA   \n",
       "238405  CONSULTANT SERVICES     Quality And Cost-Based Selection    IBRD/IDA   \n",
       "238640  CONSULTANT SERVICES               Fixed Budget Selection    IBRD/IDA   \n",
       "\n",
       "        ... WBContractNumber  \\\n",
       "4751    ...          1117942   \n",
       "72662   ...          1234270   \n",
       "94178   ...          1292076   \n",
       "103773  ...          1292834   \n",
       "104328  ...          1312715   \n",
       "...     ...              ...   \n",
       "237805  ...          1561888   \n",
       "238137  ...          1561854   \n",
       "238174  ...          1558342   \n",
       "238405  ...          1557133   \n",
       "238640  ...          1558117   \n",
       "\n",
       "                                      ContractDescription ContractSigningDate  \\\n",
       "4751    TWINNING ARRANGEMENT - ECONOMICS FACULTY AT UE...                 NaT   \n",
       "72662   Package 2: CONSTRUCTION MANAGEMENT FOR NHIEU L...          2003-08-15   \n",
       "94178   Provide airtickets to the Project, which inclu...          2004-08-10   \n",
       "103773  To Assist the Financing of the Government's Mi...          2006-12-18   \n",
       "104328                                Executive Secretary          2005-05-03   \n",
       "...                                                   ...                 ...   \n",
       "237805  Supplying of thermal conductors with all acces...          2018-05-06   \n",
       "238137  Design, manufacture, deliver, install, complet...          2018-05-10   \n",
       "238174  engineering, designing, manufacture, factory t...          2018-02-08   \n",
       "238405  Consultant pour la mission de rehabilitation d...          2018-03-28   \n",
       "238640  Consultant d'Appui Ã  EDH pour le recrutement ...          2018-04-20   \n",
       "\n",
       "                                         Supplier SupplierCountry  \\\n",
       "4751                   INSTITUTO SUPERIOR TECNICO        Portugal   \n",
       "72662   CAMP DRESSER AND MCKEE INTERNATIONAL INC.   United States   \n",
       "94178                     SOLID VIAGENS E TURISMO          Brazil   \n",
       "103773        BUSINESS PLAN INTERNATIONAL (KENYA)           Kenya   \n",
       "104328                                JULIA TEMBE      Mozambique   \n",
       "...                                           ...             ...   \n",
       "237805                       MIDAL CABLES LIMITED         Bahrain   \n",
       "238137                    LARSEN & TOUBRO LIMITED           India   \n",
       "238174                    LARSEN & TOUBRO LIMITED           India   \n",
       "238405                    GROUPEMENT ZECO-ECCOMAR           Italy   \n",
       "238640                             GASTON OUELLET          Canada   \n",
       "\n",
       "       SupplierCountryCode  SupplierState TotalContractAmount(USD)  \\\n",
       "4751                    PT   Not assigned                  1500000   \n",
       "72662                   US  Massachusetts                 14381140   \n",
       "94178                   BR   Not assigned                   720131   \n",
       "103773                  KE   Not assigned                  2500000   \n",
       "104328                  MZ   Not assigned                    87764   \n",
       "...                    ...            ...                      ...   \n",
       "237805                  BH   Not assigned                 10106675   \n",
       "238137                  IN   Not assigned                 19898970   \n",
       "238174                  IN   Not assigned                 28787916   \n",
       "238405                  IT   Not assigned                  7939259   \n",
       "238640                  CA   Not assigned                    83300   \n",
       "\n",
       "        BorrowerContractReferenceNumber UNSupplierFlag  \n",
       "4751                                  #          False  \n",
       "72662                                 #          False  \n",
       "94178                                 #          False  \n",
       "103773                                #          False  \n",
       "104328                                #          False  \n",
       "...                                 ...            ...  \n",
       "237805                                #          False  \n",
       "238137                                #          False  \n",
       "238174                                #          False  \n",
       "238405                                #          False  \n",
       "238640                                #          False  \n",
       "\n",
       "[8390 rows x 21 columns]"
      ],
      "text/html": "<div>\n<style scoped>\n    .dataframe tbody tr th:only-of-type {\n        vertical-align: middle;\n    }\n\n    .dataframe tbody tr th {\n        vertical-align: top;\n    }\n\n    .dataframe thead th {\n        text-align: right;\n    }\n</style>\n<table border=\"1\" class=\"dataframe\">\n  <thead>\n    <tr style=\"text-align: right;\">\n      <th></th>\n      <th>FiscalYear</th>\n      <th>Region</th>\n      <th>BorrowerCountry</th>\n      <th>BorrowerCountryCode</th>\n      <th>ProjectID</th>\n      <th>ProjectName</th>\n      <th>ProcurementType</th>\n      <th>ProcurementCategory</th>\n      <th>ProcurementMethod</th>\n      <th>Productline</th>\n      <th>...</th>\n      <th>WBContractNumber</th>\n      <th>ContractDescription</th>\n      <th>ContractSigningDate</th>\n      <th>Supplier</th>\n      <th>SupplierCountry</th>\n      <th>SupplierCountryCode</th>\n      <th>SupplierState</th>\n      <th>TotalContractAmount(USD)</th>\n      <th>BorrowerContractReferenceNumber</th>\n      <th>UNSupplierFlag</th>\n    </tr>\n  </thead>\n  <tbody>\n    <tr>\n      <th>4751</th>\n      <td>2000</td>\n      <td>AFE</td>\n      <td>Mozambique</td>\n      <td>MZ</td>\n      <td>P001797</td>\n      <td>CAPACITY BUILDING HUMAN DEV. PROJECT</td>\n      <td>Implementation Activity</td>\n      <td>CONSULTANT SERVICES</td>\n      <td>Quality And Cost-Based Selection</td>\n      <td>IBRD/IDA</td>\n      <td>...</td>\n      <td>1117942</td>\n      <td>TWINNING ARRANGEMENT - ECONOMICS FACULTY AT UE...</td>\n      <td>NaT</td>\n      <td>INSTITUTO SUPERIOR TECNICO</td>\n      <td>Portugal</td>\n      <td>PT</td>\n      <td>Not assigned</td>\n      <td>1500000</td>\n      <td>#</td>\n      <td>False</td>\n    </tr>\n    <tr>\n      <th>72662</th>\n      <td>2003</td>\n      <td>EAP</td>\n      <td>Vietnam</td>\n      <td>VN</td>\n      <td>P052037</td>\n      <td>VN-HCMC ENVMTL SANIT.</td>\n      <td>Construction Supervision</td>\n      <td>CONSULTANT SERVICES</td>\n      <td>Quality And Cost-Based Selection</td>\n      <td>IBRD/IDA</td>\n      <td>...</td>\n      <td>1234270</td>\n      <td>Package 2: CONSTRUCTION MANAGEMENT FOR NHIEU L...</td>\n      <td>2003-08-15</td>\n      <td>CAMP DRESSER AND MCKEE INTERNATIONAL INC.</td>\n      <td>United States</td>\n      <td>US</td>\n      <td>Massachusetts</td>\n      <td>14381140</td>\n      <td>#</td>\n      <td>False</td>\n    </tr>\n    <tr>\n      <th>94178</th>\n      <td>2005</td>\n      <td>LCR</td>\n      <td>Brazil</td>\n      <td>BR</td>\n      <td>P094715</td>\n      <td>BR GEF National Biod Mainstreaming</td>\n      <td>Miscellaneous</td>\n      <td>GOODS</td>\n      <td>National Competitive Bidding</td>\n      <td>GEF</td>\n      <td>...</td>\n      <td>1292076</td>\n      <td>Provide airtickets to the Project, which inclu...</td>\n      <td>2004-08-10</td>\n      <td>SOLID VIAGENS E TURISMO</td>\n      <td>Brazil</td>\n      <td>BR</td>\n      <td>Not assigned</td>\n      <td>720131</td>\n      <td>#</td>\n      <td>False</td>\n    </tr>\n    <tr>\n      <th>103773</th>\n      <td>2005</td>\n      <td>AFE</td>\n      <td>Kenya</td>\n      <td>KE</td>\n      <td>P083250</td>\n      <td>Financial &amp; Legal Sec TA</td>\n      <td>Project Management</td>\n      <td>CONSULTANT SERVICES</td>\n      <td>Consultant Qualification  Selection</td>\n      <td>IBRD/IDA</td>\n      <td>...</td>\n      <td>1292834</td>\n      <td>To Assist the Financing of the Government's Mi...</td>\n      <td>2006-12-18</td>\n      <td>BUSINESS PLAN INTERNATIONAL (KENYA)</td>\n      <td>Kenya</td>\n      <td>KE</td>\n      <td>Not assigned</td>\n      <td>2500000</td>\n      <td>#</td>\n      <td>False</td>\n    </tr>\n    <tr>\n      <th>104328</th>\n      <td>2005</td>\n      <td>AFE</td>\n      <td>Mozambique</td>\n      <td>MZ</td>\n      <td>P086169</td>\n      <td>MZ-Financial Sector TA Project</td>\n      <td>Management /Technical Advice</td>\n      <td>CONSULTANT SERVICES</td>\n      <td>Individual Consultant Selection</td>\n      <td>IBRD/IDA</td>\n      <td>...</td>\n      <td>1312715</td>\n      <td>Executive Secretary</td>\n      <td>2005-05-03</td>\n      <td>JULIA TEMBE</td>\n      <td>Mozambique</td>\n      <td>MZ</td>\n      <td>Not assigned</td>\n      <td>87764</td>\n      <td>#</td>\n      <td>False</td>\n    </tr>\n    <tr>\n      <th>...</th>\n      <td>...</td>\n      <td>...</td>\n      <td>...</td>\n      <td>...</td>\n      <td>...</td>\n      <td>...</td>\n      <td>...</td>\n      <td>...</td>\n      <td>...</td>\n      <td>...</td>\n      <td>...</td>\n      <td>...</td>\n      <td>...</td>\n      <td>...</td>\n      <td>...</td>\n      <td>...</td>\n      <td>...</td>\n      <td>...</td>\n      <td>...</td>\n      <td>...</td>\n      <td>...</td>\n    </tr>\n    <tr>\n      <th>237805</th>\n      <td>2018</td>\n      <td>MNA</td>\n      <td>Egypt, Arab Rep</td>\n      <td>EG</td>\n      <td>P113416</td>\n      <td>EG-Wind Power Development</td>\n      <td>Equipment, Electrical</td>\n      <td>GOODS</td>\n      <td>International Competitive Bidding</td>\n      <td>IBRD/IDA</td>\n      <td>...</td>\n      <td>1561888</td>\n      <td>Supplying of thermal conductors with all acces...</td>\n      <td>2018-05-06</td>\n      <td>MIDAL CABLES LIMITED</td>\n      <td>Bahrain</td>\n      <td>BH</td>\n      <td>Not assigned</td>\n      <td>10106675</td>\n      <td>#</td>\n      <td>False</td>\n    </tr>\n    <tr>\n      <th>238137</th>\n      <td>2018</td>\n      <td>MNA</td>\n      <td>Egypt, Arab Rep</td>\n      <td>EG</td>\n      <td>P113416</td>\n      <td>EG-Wind Power Development</td>\n      <td>Equipment, Electrical</td>\n      <td>GOODS</td>\n      <td>International Competitive Bidding</td>\n      <td>IBRD/IDA</td>\n      <td>...</td>\n      <td>1561854</td>\n      <td>Design, manufacture, deliver, install, complet...</td>\n      <td>2018-05-10</td>\n      <td>LARSEN &amp; TOUBRO LIMITED</td>\n      <td>India</td>\n      <td>IN</td>\n      <td>Not assigned</td>\n      <td>19898970</td>\n      <td>#</td>\n      <td>False</td>\n    </tr>\n    <tr>\n      <th>238174</th>\n      <td>2018</td>\n      <td>MNA</td>\n      <td>Egypt, Arab Rep</td>\n      <td>EG</td>\n      <td>P100047</td>\n      <td>EG-Ain Sokhna Power</td>\n      <td>Equipment, Electrical</td>\n      <td>GOODS</td>\n      <td>International Competitive Bidding</td>\n      <td>IBRD/IDA</td>\n      <td>...</td>\n      <td>1558342</td>\n      <td>engineering, designing, manufacture, factory t...</td>\n      <td>2018-02-08</td>\n      <td>LARSEN &amp; TOUBRO LIMITED</td>\n      <td>India</td>\n      <td>IN</td>\n      <td>Not assigned</td>\n      <td>28787916</td>\n      <td>#</td>\n      <td>False</td>\n    </tr>\n    <tr>\n      <th>238405</th>\n      <td>2018</td>\n      <td>LCR</td>\n      <td>Haiti</td>\n      <td>HT</td>\n      <td>P127203</td>\n      <td>HT Rebuilding Energy Infrastr &amp; Access</td>\n      <td>Construction Supervision</td>\n      <td>CONSULTANT SERVICES</td>\n      <td>Quality And Cost-Based Selection</td>\n      <td>IBRD/IDA</td>\n      <td>...</td>\n      <td>1557133</td>\n      <td>Consultant pour la mission de rehabilitation d...</td>\n      <td>2018-03-28</td>\n      <td>GROUPEMENT ZECO-ECCOMAR</td>\n      <td>Italy</td>\n      <td>IT</td>\n      <td>Not assigned</td>\n      <td>7939259</td>\n      <td>#</td>\n      <td>False</td>\n    </tr>\n    <tr>\n      <th>238640</th>\n      <td>2018</td>\n      <td>LCR</td>\n      <td>Haiti</td>\n      <td>HT</td>\n      <td>P127203</td>\n      <td>HT Rebuilding Energy Infrastr &amp; Access</td>\n      <td>Management /Technical Advice</td>\n      <td>CONSULTANT SERVICES</td>\n      <td>Fixed Budget Selection</td>\n      <td>IBRD/IDA</td>\n      <td>...</td>\n      <td>1558117</td>\n      <td>Consultant d'Appui Ã  EDH pour le recrutement ...</td>\n      <td>2018-04-20</td>\n      <td>GASTON OUELLET</td>\n      <td>Canada</td>\n      <td>CA</td>\n      <td>Not assigned</td>\n      <td>83300</td>\n      <td>#</td>\n      <td>False</td>\n    </tr>\n  </tbody>\n</table>\n<p>8390 rows × 21 columns</p>\n</div>"
     },
     "metadata": {},
     "execution_count": 44
    }
   ],
   "source": [
    "df[df.BorrowerContractReferenceNumber == '#']"
   ]
  },
  {
   "cell_type": "code",
   "execution_count": null,
   "metadata": {},
   "outputs": [],
   "source": [
    "CREATE TABLE `test` (\n",
    "  `As of Date` text,\n",
    "  `Fiscal Year` bigint DEFAULT NULL,\n",
    "  `Region` text,\n",
    "  `Borrower Country` text,\n",
    "  `Borrower Country Code` text,\n",
    "  `Project ID` text,\n",
    "  `Project Name` text,\n",
    "  `Procurement Type` text,\n",
    "  `Procurement Category` text,\n",
    "  `Procurement Method` text,\n",
    "  `Product line` text,\n",
    "  `Major Sector` text,\n",
    "  `WB Contract Number` bigint DEFAULT NULL,\n",
    "  `Contract Description` text,\n",
    "  `Contract Signing Date` text,\n",
    "  `Supplier` text,\n",
    "  `Supplier Country` text,\n",
    "  `Supplier Country Code` text,\n",
    "  `Supplier State` text,\n",
    "  `Total Contract Amount (USD)` bigint DEFAULT NULL,\n",
    "  `Borrower Contract Reference Number` text,\n",
    "  `UN Supplier Flag` text\n",
    ") ENGINE=InnoDB DEFAULT CHARSET=utf8mb4 COLLATE=utf8mb4_0900_ai_ci"
   ]
  }
 ],
 "metadata": {
  "kernelspec": {
   "name": "python388jvsc74a57bd07c38827dc8ea6b34719f2b59ae9fca850e98b140ec82bf5ad0ee2538164e43ec",
   "display_name": "Python 3.8.8 64-bit ('base': conda)"
  },
  "language_info": {
   "codemirror_mode": {
    "name": "ipython",
    "version": 3
   },
   "file_extension": ".py",
   "mimetype": "text/x-python",
   "name": "python",
   "nbconvert_exporter": "python",
   "pygments_lexer": "ipython3",
   "version": "3.8.8"
  }
 },
 "nbformat": 4,
 "nbformat_minor": 5
}