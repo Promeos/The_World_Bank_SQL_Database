{
 "cells": [
  {
   "cell_type": "markdown",
   "id": "da40f443",
   "metadata": {},
   "source": [
    "# World Bank Database\n",
    "---\n",
    "## Contract Awards\n",
    "This set of contract awards includes data on commitments against contracts that were reviewed by the Bank before they were awarded (prior-reviewed Bank-funded contracts) under IDA/IBRD investment projects and related Trust Funds. This dataset does not list all contracts awarded by the Bank, and should be viewed only as a guide to determine the distribution of major contract commitments among the Bank's member countries. \"Supplier Country\" represents place of supplier registration, which may or not be the supplier's actual country of origin. Information does not include awards to subcontractors nor account for cofinancing. The Procurement Policy and Services Group does not guarantee the data included in this publication and accepts no responsibility whatsoever for any consequences of its use. The World Bank Group complies with all sanctions applicable to World Bank Group transactions.\n",
    "\n",
    "[world-bank-contracts](https://datacatalog.worldbank.org/dataset/world-bank-contract-awards)\n",
    "\n",
    "## Projects\n",
    "\n",
    "The World Bank provides low-interest loans, zero to low-interest credits, and grants to developing countries. These support a wide array of investments in such areas as education, health, public administration, infrastructure, financial and private sector development, agriculture, and environmental and natural resource management. Some of our projects are cofinanced with governments, other multilateral institutions, commercial banks, export credit agencies, and private sector investors.\n",
    "\n",
    "World Bank Projects & Operations provides access to basic information on all of the World Bank's lending projects from 1947 to the present. The dataset includes basic information such as the project title, task manager, country, project id, sector, themes, commitment amount, product line, and financing. It also provides links to publicly disclosed online documents.\n",
    "\n",
    "[world-bank-projects](https://datacatalog.worldbank.org/dataset/world-bank-projects-operations)\n",
    "\n",
    "<br>\n",
    "\n",
    "### Data Notes\n",
    "Data are organized around the concept of project with the project id being the key linking the project to related operational datasets such as contract awards, loans/credits/grants, trust funds, etc.\n",
    "\n"
   ]
  },
  {
   "cell_type": "code",
   "execution_count": 1,
   "id": "5bcf773b",
   "metadata": {},
   "outputs": [],
   "source": [
    "import pymysql\n",
    "import re\n",
    "import pandas as pd\n",
    "import numpy as np\n",
    "from datetime import datetime\n",
    "\n",
    "import src\n",
    "import env"
   ]
  },
  {
   "cell_type": "markdown",
   "id": "131ce7ed",
   "metadata": {},
   "source": [
    "# Acquire"
   ]
  },
  {
   "cell_type": "code",
   "execution_count": 2,
   "id": "fbdb6083",
   "metadata": {},
   "outputs": [
    {
     "output_type": "execute_result",
     "data": {
      "text/plain": [
       "       As of Date  Fiscal Year Region Borrower Country Borrower Country Code  \\\n",
       "0  3/11/2021 0:00         2000    AFE           Angola                    AO   \n",
       "1  3/11/2021 0:00         2000    AFE           Angola                    AO   \n",
       "2  3/11/2021 0:00         2000    AFE       Madagascar                    MG   \n",
       "3  3/11/2021 0:00         2000    AFE       Madagascar                    MG   \n",
       "4  3/11/2021 0:00         2000    AFE     South Africa                    ZA   \n",
       "\n",
       "  Project ID                       Project Name         Procurement Type  \\\n",
       "0    P000044               FINANCIAL INSTITUTIO  Implementation Activity   \n",
       "1    P000044               FINANCIAL INSTITUTIO  Implementation Activity   \n",
       "2    P052186                    MG-Microfinance  Implementation Activity   \n",
       "3    P052186                    MG-Microfinance  Implementation Activity   \n",
       "4    P035923  ZA-GEF Cape Penninsula SIL (FY98)  Implementation Activity   \n",
       "\n",
       "  Procurement Category                Procurement Method  ...  \\\n",
       "0  CONSULTANT SERVICES  Quality And Cost-Based Selection  ...   \n",
       "1  CONSULTANT SERVICES  Quality And Cost-Based Selection  ...   \n",
       "2  CONSULTANT SERVICES  Quality And Cost-Based Selection  ...   \n",
       "3  CONSULTANT SERVICES  Quality And Cost-Based Selection  ...   \n",
       "4  CONSULTANT SERVICES  Quality And Cost-Based Selection  ...   \n",
       "\n",
       "  WB Contract Number                               Contract Description  \\\n",
       "0            1207736               OIL SECTOR STUDY - CONTRCT WITH KPMG   \n",
       "1            1207736               OIL SECTOR STUDY - CONTRCT WITH KPMG   \n",
       "2            1116602  APPUI AU DEVELOPPEMENT DU RESEAU OTIV (TOAMASINA)   \n",
       "3            1116602  APPUI AU DEVELOPPEMENT DU RESEAU OTIV (TOAMASINA)   \n",
       "4            1116066  INSTITUTIONAL, LEGAL, POLICY, FINANCIAL, SOCIA...   \n",
       "\n",
       "   Contract Signing Date                        Supplier Supplier Country  \\\n",
       "0        11/20/2000 0:00              KPMG INTERNATIONAL   United Kingdom   \n",
       "1        11/20/2000 0:00              KPMG INTERNATIONAL   United Kingdom   \n",
       "2         9/17/1999 0:00  DEVELOPMENT INTERNA.DESJARDINS           Canada   \n",
       "3         9/17/1999 0:00  DEVELOPMENT INTERNA.DESJARDINS           Canada   \n",
       "4          7/6/1999 0:00                            CSIR     South Africa   \n",
       "\n",
       "  Supplier Country Code Supplier State Total Contract Amount (USD)  \\\n",
       "0                    GB   Not assigned                      800000   \n",
       "1                    GB   Not assigned                      800000   \n",
       "2                    CA   Not assigned                     1964922   \n",
       "3                    CA   Not assigned                     1964922   \n",
       "4                    ZA   Not assigned                      178602   \n",
       "\n",
       "  Borrower Contract Reference Number  UN Supplier Flag  \n",
       "0                  KPMG - 11/20/2000                No  \n",
       "1                  KPMG - 11/20/2000                No  \n",
       "2              1/01/10/99/AGEPMF/DID                No  \n",
       "3              1/01/10/99/AGEPMF/DID                No  \n",
       "4                           WWF-SA-3                No  \n",
       "\n",
       "[5 rows x 22 columns]"
      ],
      "text/html": "<div>\n<style scoped>\n    .dataframe tbody tr th:only-of-type {\n        vertical-align: middle;\n    }\n\n    .dataframe tbody tr th {\n        vertical-align: top;\n    }\n\n    .dataframe thead th {\n        text-align: right;\n    }\n</style>\n<table border=\"1\" class=\"dataframe\">\n  <thead>\n    <tr style=\"text-align: right;\">\n      <th></th>\n      <th>As of Date</th>\n      <th>Fiscal Year</th>\n      <th>Region</th>\n      <th>Borrower Country</th>\n      <th>Borrower Country Code</th>\n      <th>Project ID</th>\n      <th>Project Name</th>\n      <th>Procurement Type</th>\n      <th>Procurement Category</th>\n      <th>Procurement Method</th>\n      <th>...</th>\n      <th>WB Contract Number</th>\n      <th>Contract Description</th>\n      <th>Contract Signing Date</th>\n      <th>Supplier</th>\n      <th>Supplier Country</th>\n      <th>Supplier Country Code</th>\n      <th>Supplier State</th>\n      <th>Total Contract Amount (USD)</th>\n      <th>Borrower Contract Reference Number</th>\n      <th>UN Supplier Flag</th>\n    </tr>\n  </thead>\n  <tbody>\n    <tr>\n      <th>0</th>\n      <td>3/11/2021 0:00</td>\n      <td>2000</td>\n      <td>AFE</td>\n      <td>Angola</td>\n      <td>AO</td>\n      <td>P000044</td>\n      <td>FINANCIAL INSTITUTIO</td>\n      <td>Implementation Activity</td>\n      <td>CONSULTANT SERVICES</td>\n      <td>Quality And Cost-Based Selection</td>\n      <td>...</td>\n      <td>1207736</td>\n      <td>OIL SECTOR STUDY - CONTRCT WITH KPMG</td>\n      <td>11/20/2000 0:00</td>\n      <td>KPMG INTERNATIONAL</td>\n      <td>United Kingdom</td>\n      <td>GB</td>\n      <td>Not assigned</td>\n      <td>800000</td>\n      <td>KPMG - 11/20/2000</td>\n      <td>No</td>\n    </tr>\n    <tr>\n      <th>1</th>\n      <td>3/11/2021 0:00</td>\n      <td>2000</td>\n      <td>AFE</td>\n      <td>Angola</td>\n      <td>AO</td>\n      <td>P000044</td>\n      <td>FINANCIAL INSTITUTIO</td>\n      <td>Implementation Activity</td>\n      <td>CONSULTANT SERVICES</td>\n      <td>Quality And Cost-Based Selection</td>\n      <td>...</td>\n      <td>1207736</td>\n      <td>OIL SECTOR STUDY - CONTRCT WITH KPMG</td>\n      <td>11/20/2000 0:00</td>\n      <td>KPMG INTERNATIONAL</td>\n      <td>United Kingdom</td>\n      <td>GB</td>\n      <td>Not assigned</td>\n      <td>800000</td>\n      <td>KPMG - 11/20/2000</td>\n      <td>No</td>\n    </tr>\n    <tr>\n      <th>2</th>\n      <td>3/11/2021 0:00</td>\n      <td>2000</td>\n      <td>AFE</td>\n      <td>Madagascar</td>\n      <td>MG</td>\n      <td>P052186</td>\n      <td>MG-Microfinance</td>\n      <td>Implementation Activity</td>\n      <td>CONSULTANT SERVICES</td>\n      <td>Quality And Cost-Based Selection</td>\n      <td>...</td>\n      <td>1116602</td>\n      <td>APPUI AU DEVELOPPEMENT DU RESEAU OTIV (TOAMASINA)</td>\n      <td>9/17/1999 0:00</td>\n      <td>DEVELOPMENT INTERNA.DESJARDINS</td>\n      <td>Canada</td>\n      <td>CA</td>\n      <td>Not assigned</td>\n      <td>1964922</td>\n      <td>1/01/10/99/AGEPMF/DID</td>\n      <td>No</td>\n    </tr>\n    <tr>\n      <th>3</th>\n      <td>3/11/2021 0:00</td>\n      <td>2000</td>\n      <td>AFE</td>\n      <td>Madagascar</td>\n      <td>MG</td>\n      <td>P052186</td>\n      <td>MG-Microfinance</td>\n      <td>Implementation Activity</td>\n      <td>CONSULTANT SERVICES</td>\n      <td>Quality And Cost-Based Selection</td>\n      <td>...</td>\n      <td>1116602</td>\n      <td>APPUI AU DEVELOPPEMENT DU RESEAU OTIV (TOAMASINA)</td>\n      <td>9/17/1999 0:00</td>\n      <td>DEVELOPMENT INTERNA.DESJARDINS</td>\n      <td>Canada</td>\n      <td>CA</td>\n      <td>Not assigned</td>\n      <td>1964922</td>\n      <td>1/01/10/99/AGEPMF/DID</td>\n      <td>No</td>\n    </tr>\n    <tr>\n      <th>4</th>\n      <td>3/11/2021 0:00</td>\n      <td>2000</td>\n      <td>AFE</td>\n      <td>South Africa</td>\n      <td>ZA</td>\n      <td>P035923</td>\n      <td>ZA-GEF Cape Penninsula SIL (FY98)</td>\n      <td>Implementation Activity</td>\n      <td>CONSULTANT SERVICES</td>\n      <td>Quality And Cost-Based Selection</td>\n      <td>...</td>\n      <td>1116066</td>\n      <td>INSTITUTIONAL, LEGAL, POLICY, FINANCIAL, SOCIA...</td>\n      <td>7/6/1999 0:00</td>\n      <td>CSIR</td>\n      <td>South Africa</td>\n      <td>ZA</td>\n      <td>Not assigned</td>\n      <td>178602</td>\n      <td>WWF-SA-3</td>\n      <td>No</td>\n    </tr>\n  </tbody>\n</table>\n<p>5 rows × 22 columns</p>\n</div>"
     },
     "metadata": {},
     "execution_count": 2
    }
   ],
   "source": [
    "# Load the contracts data\n",
    "df_contracts = src.get_contract_data()\n",
    "df_contracts.head()"
   ]
  },
  {
   "cell_type": "code",
   "execution_count": 3,
   "id": "0c8d5ddb",
   "metadata": {},
   "outputs": [
    {
     "output_type": "stream",
     "name": "stdout",
     "text": [
      "<class 'pandas.core.frame.DataFrame'>\nRangeIndex: 246724 entries, 0 to 246723\nData columns (total 22 columns):\n #   Column                              Non-Null Count   Dtype \n---  ------                              --------------   ----- \n 0   As of Date                          246724 non-null  object\n 1   Fiscal Year                         246724 non-null  int64 \n 2   Region                              246724 non-null  object\n 3   Borrower Country                    246724 non-null  object\n 4   Borrower Country Code               246714 non-null  object\n 5   Project ID                          246724 non-null  object\n 6   Project Name                        246724 non-null  object\n 7   Procurement Type                    246724 non-null  object\n 8   Procurement Category                246724 non-null  object\n 9   Procurement Method                  246724 non-null  object\n 10  Product line                        246724 non-null  object\n 11  Major Sector                        246724 non-null  object\n 12  WB Contract Number                  246724 non-null  int64 \n 13  Contract Description                246718 non-null  object\n 14  Contract Signing Date               241839 non-null  object\n 15  Supplier                            246723 non-null  object\n 16  Supplier Country                    246724 non-null  object\n 17  Supplier Country Code               246705 non-null  object\n 18  Supplier State                      246724 non-null  object\n 19  Total Contract Amount (USD)         246724 non-null  int64 \n 20  Borrower Contract Reference Number  246143 non-null  object\n 21  UN Supplier Flag                    246724 non-null  object\ndtypes: int64(3), object(19)\nmemory usage: 41.4+ MB\n"
     ]
    }
   ],
   "source": [
    "df_contracts.info()"
   ]
  },
  {
   "cell_type": "code",
   "execution_count": 4,
   "id": "4cf62dc5",
   "metadata": {},
   "outputs": [],
   "source": [
    "# Load the projects data\n",
    "df_projects = src.get_project_data()"
   ]
  },
  {
   "cell_type": "code",
   "execution_count": 5,
   "id": "e95370f2",
   "metadata": {},
   "outputs": [
    {
     "output_type": "stream",
     "name": "stdout",
     "text": [
      "<class 'pandas.core.frame.DataFrame'>\nRangeIndex: 20433 entries, 0 to 20432\nData columns (total 26 columns):\n #   Column                             Non-Null Count  Dtype  \n---  ------                             --------------  -----  \n 0   Project ID                         20433 non-null  object \n 1   Region                             20430 non-null  object \n 2   Country                            20430 non-null  object \n 3   Project Status                     20431 non-null  object \n 4   Project Name                       20433 non-null  object \n 5   Project Development Objective      10957 non-null  object \n 6   Implementing Agency                6057 non-null   object \n 7   Consultant Services Required       1230 non-null   object \n 8   Project URL                        20433 non-null  object \n 9   Board Approval Date                18158 non-null  object \n 10  Project Closing Date               16149 non-null  object \n 11  Financing Type                     12700 non-null  object \n 12  Current Project Cost               20297 non-null  float64\n 13  IBRD Commitment                    20433 non-null  int64  \n 14  IDA Commitment                     20433 non-null  int64  \n 15  Total IDA and IBRD Commitment      20433 non-null  int64  \n 16  Grant Amount                       20433 non-null  int64  \n 17  Borrower                           5822 non-null   object \n 18  Lending Instrument                 20199 non-null  object \n 19  Environmental Assessment Category  12606 non-null  object \n 20  Environmental and Social Risk      914 non-null    object \n 21  Sector 1                           19103 non-null  object \n 22  Sector 2                           10729 non-null  object \n 23  Sector 3                           7276 non-null   object \n 24  Theme 1                            12255 non-null  object \n 25  Theme 2                            9895 non-null   object \ndtypes: float64(1), int64(4), object(21)\nmemory usage: 4.1+ MB\n"
     ]
    }
   ],
   "source": [
    "df_projects.info()"
   ]
  },
  {
   "cell_type": "markdown",
   "id": "e2da9449",
   "metadata": {},
   "source": [
    "# Prepare\n",
    "\n",
    "## Connect to MySQL Database"
   ]
  },
  {
   "cell_type": "code",
   "execution_count": 6,
   "id": "ae9240ef",
   "metadata": {},
   "outputs": [
    {
     "output_type": "execute_result",
     "data": {
      "text/plain": [
       "0"
      ]
     },
     "metadata": {},
     "execution_count": 6
    }
   ],
   "source": [
    "cnx, cursor = src.get_cursor(user=env.user, password=env.password)\n",
    "thread = src.get_connection(user=env.user, password=env.password)\n",
    "\n",
    "cursor.execute(\"CREATE DATABASE IF NOT EXISTS worldbank;\")\n",
    "cursor.execute(\"USE worldbank;\")"
   ]
  },
  {
   "cell_type": "markdown",
   "id": "c0d4e8bb",
   "metadata": {},
   "source": [
    "## Commit to MySQL Database"
   ]
  },
  {
   "cell_type": "code",
   "execution_count": 7,
   "id": "ddc17f4c",
   "metadata": {},
   "outputs": [],
   "source": [
    "# Write 5 rows of data to the new database to test the connection.\n",
    "# df_contracts.head().to_sql(name='test',\n",
    "#                            con = cnx,\n",
    "#                            if_exists='replace',\n",
    "#                            index=False)"
   ]
  },
  {
   "cell_type": "markdown",
   "id": "e300ecfe",
   "metadata": {},
   "source": [
    "## Load data from MySQL Database"
   ]
  },
  {
   "cell_type": "code",
   "execution_count": 8,
   "id": "d58e4875",
   "metadata": {},
   "outputs": [],
   "source": [
    "# Read data from the table.\n",
    "# pd.read_sql(\"\"\"SELECT * FROM test;\"\"\", thread)"
   ]
  },
  {
   "cell_type": "markdown",
   "id": "93c5c256",
   "metadata": {},
   "source": [
    "## Database Prep\n",
    "\n",
    "### Contracts Table Prep\n",
    "- Clean column names\n",
    "- Drop columns\n",
    "- Create seperate tables"
   ]
  },
  {
   "cell_type": "code",
   "execution_count": 9,
   "id": "8a961142",
   "metadata": {},
   "outputs": [],
   "source": [
    "cols = list(df_contracts.columns)\n",
    "df_contracts.columns = [col.replace(' ', '') for col in cols]"
   ]
  },
  {
   "cell_type": "code",
   "execution_count": 10,
   "id": "d089429e",
   "metadata": {},
   "outputs": [
    {
     "output_type": "stream",
     "name": "stdout",
     "text": [
      "<class 'pandas.core.frame.DataFrame'>\nRangeIndex: 246724 entries, 0 to 246723\nData columns (total 22 columns):\n #   Column                           Non-Null Count   Dtype \n---  ------                           --------------   ----- \n 0   AsofDate                         246724 non-null  object\n 1   FiscalYear                       246724 non-null  int64 \n 2   Region                           246724 non-null  object\n 3   BorrowerCountry                  246724 non-null  object\n 4   BorrowerCountryCode              246714 non-null  object\n 5   ProjectID                        246724 non-null  object\n 6   ProjectName                      246724 non-null  object\n 7   ProcurementType                  246724 non-null  object\n 8   ProcurementCategory              246724 non-null  object\n 9   ProcurementMethod                246724 non-null  object\n 10  Productline                      246724 non-null  object\n 11  MajorSector                      246724 non-null  object\n 12  WBContractNumber                 246724 non-null  int64 \n 13  ContractDescription              246718 non-null  object\n 14  ContractSigningDate              241839 non-null  object\n 15  Supplier                         246723 non-null  object\n 16  SupplierCountry                  246724 non-null  object\n 17  SupplierCountryCode              246705 non-null  object\n 18  SupplierState                    246724 non-null  object\n 19  TotalContractAmount(USD)         246724 non-null  int64 \n 20  BorrowerContractReferenceNumber  246143 non-null  object\n 21  UNSupplierFlag                   246724 non-null  object\ndtypes: int64(3), object(19)\nmemory usage: 41.4+ MB\n"
     ]
    }
   ],
   "source": [
    "df_contracts.info()"
   ]
  },
  {
   "cell_type": "code",
   "execution_count": 11,
   "id": "463ffa23",
   "metadata": {},
   "outputs": [
    {
     "output_type": "execute_result",
     "data": {
      "text/plain": [
       "                                  count  unique  \\\n",
       "AsofDate                         246724       1   \n",
       "UNSupplierFlag                   246724       2   \n",
       "SupplierState                    246724      51   \n",
       "Productline                      246724      18   \n",
       "ProcurementCategory              246724       4   \n",
       "MajorSector                      246724      21   \n",
       "ProcurementMethod                246724      30   \n",
       "Region                           246724       9   \n",
       "ProcurementType                  246724      68   \n",
       "SupplierCountry                  246724     213   \n",
       "BorrowerCountry                  246724     176   \n",
       "ProjectName                      246724    7412   \n",
       "ProjectID                        246724    7538   \n",
       "Supplier                         246723  111355   \n",
       "ContractDescription              246718  145439   \n",
       "BorrowerCountryCode              246714     175   \n",
       "SupplierCountryCode              246705     212   \n",
       "BorrowerContractReferenceNumber  246143  149009   \n",
       "ContractSigningDate              241839    7813   \n",
       "\n",
       "                                                               top    freq  \n",
       "AsofDate                                            3/11/2021 0:00  246724  \n",
       "UNSupplierFlag                                                  No  244945  \n",
       "SupplierState                                         Not assigned  241333  \n",
       "Productline                                               IBRD/IDA  217662  \n",
       "ProcurementCategory                            CONSULTANT SERVICES  123814  \n",
       "MajorSector                                           Public Admin   55922  \n",
       "ProcurementMethod                International Competitive Bidding   53797  \n",
       "Region                                                         LCR   49902  \n",
       "ProcurementType                       Management /Technical Advice   27525  \n",
       "SupplierCountry                                              India   14040  \n",
       "BorrowerCountry                                              China   12871  \n",
       "ProjectName                                              COMM DEVT    1310  \n",
       "ProjectID                                                  P070995    1300  \n",
       "Supplier                                            AGETIP-SENEGAL     761  \n",
       "ContractDescription                              MEDICAL EQUIPMENT     425  \n",
       "BorrowerCountryCode                                             CN   12871  \n",
       "SupplierCountryCode                                             IN   14040  \n",
       "BorrowerContractReferenceNumber                                  #    8390  \n",
       "ContractSigningDate                                 2/16/2005 0:00     264  "
      ],
      "text/html": "<div>\n<style scoped>\n    .dataframe tbody tr th:only-of-type {\n        vertical-align: middle;\n    }\n\n    .dataframe tbody tr th {\n        vertical-align: top;\n    }\n\n    .dataframe thead th {\n        text-align: right;\n    }\n</style>\n<table border=\"1\" class=\"dataframe\">\n  <thead>\n    <tr style=\"text-align: right;\">\n      <th></th>\n      <th>count</th>\n      <th>unique</th>\n      <th>top</th>\n      <th>freq</th>\n    </tr>\n  </thead>\n  <tbody>\n    <tr>\n      <th>AsofDate</th>\n      <td>246724</td>\n      <td>1</td>\n      <td>3/11/2021 0:00</td>\n      <td>246724</td>\n    </tr>\n    <tr>\n      <th>UNSupplierFlag</th>\n      <td>246724</td>\n      <td>2</td>\n      <td>No</td>\n      <td>244945</td>\n    </tr>\n    <tr>\n      <th>SupplierState</th>\n      <td>246724</td>\n      <td>51</td>\n      <td>Not assigned</td>\n      <td>241333</td>\n    </tr>\n    <tr>\n      <th>Productline</th>\n      <td>246724</td>\n      <td>18</td>\n      <td>IBRD/IDA</td>\n      <td>217662</td>\n    </tr>\n    <tr>\n      <th>ProcurementCategory</th>\n      <td>246724</td>\n      <td>4</td>\n      <td>CONSULTANT SERVICES</td>\n      <td>123814</td>\n    </tr>\n    <tr>\n      <th>MajorSector</th>\n      <td>246724</td>\n      <td>21</td>\n      <td>Public Admin</td>\n      <td>55922</td>\n    </tr>\n    <tr>\n      <th>ProcurementMethod</th>\n      <td>246724</td>\n      <td>30</td>\n      <td>International Competitive Bidding</td>\n      <td>53797</td>\n    </tr>\n    <tr>\n      <th>Region</th>\n      <td>246724</td>\n      <td>9</td>\n      <td>LCR</td>\n      <td>49902</td>\n    </tr>\n    <tr>\n      <th>ProcurementType</th>\n      <td>246724</td>\n      <td>68</td>\n      <td>Management /Technical Advice</td>\n      <td>27525</td>\n    </tr>\n    <tr>\n      <th>SupplierCountry</th>\n      <td>246724</td>\n      <td>213</td>\n      <td>India</td>\n      <td>14040</td>\n    </tr>\n    <tr>\n      <th>BorrowerCountry</th>\n      <td>246724</td>\n      <td>176</td>\n      <td>China</td>\n      <td>12871</td>\n    </tr>\n    <tr>\n      <th>ProjectName</th>\n      <td>246724</td>\n      <td>7412</td>\n      <td>COMM DEVT</td>\n      <td>1310</td>\n    </tr>\n    <tr>\n      <th>ProjectID</th>\n      <td>246724</td>\n      <td>7538</td>\n      <td>P070995</td>\n      <td>1300</td>\n    </tr>\n    <tr>\n      <th>Supplier</th>\n      <td>246723</td>\n      <td>111355</td>\n      <td>AGETIP-SENEGAL</td>\n      <td>761</td>\n    </tr>\n    <tr>\n      <th>ContractDescription</th>\n      <td>246718</td>\n      <td>145439</td>\n      <td>MEDICAL EQUIPMENT</td>\n      <td>425</td>\n    </tr>\n    <tr>\n      <th>BorrowerCountryCode</th>\n      <td>246714</td>\n      <td>175</td>\n      <td>CN</td>\n      <td>12871</td>\n    </tr>\n    <tr>\n      <th>SupplierCountryCode</th>\n      <td>246705</td>\n      <td>212</td>\n      <td>IN</td>\n      <td>14040</td>\n    </tr>\n    <tr>\n      <th>BorrowerContractReferenceNumber</th>\n      <td>246143</td>\n      <td>149009</td>\n      <td>#</td>\n      <td>8390</td>\n    </tr>\n    <tr>\n      <th>ContractSigningDate</th>\n      <td>241839</td>\n      <td>7813</td>\n      <td>2/16/2005 0:00</td>\n      <td>264</td>\n    </tr>\n  </tbody>\n</table>\n</div>"
     },
     "metadata": {},
     "execution_count": 11
    }
   ],
   "source": [
    "df_contracts.describe(include='O').T.sort_values(by=['count', 'freq'], ascending=False)"
   ]
  },
  {
   "cell_type": "code",
   "execution_count": 12,
   "id": "62ee6fdb",
   "metadata": {},
   "outputs": [],
   "source": [
    "df_contracts.drop(columns='AsofDate', inplace=True)\n",
    "df_contracts.ContractSigningDate = pd.to_datetime(df_contracts.ContractSigningDate)\n",
    "df_contracts.UNSupplierFlag = np.where(df_contracts.UNSupplierFlag == 'No', False, True)"
   ]
  },
  {
   "cell_type": "markdown",
   "id": "9c517a18",
   "metadata": {},
   "source": [
    "### Projects Table Prep\n",
    "- Clean column names\n",
    "- Drop columns\n",
    "- Create seperate tables"
   ]
  },
  {
   "cell_type": "code",
   "execution_count": 13,
   "id": "7be07d8b",
   "metadata": {},
   "outputs": [],
   "source": [
    "cols = list(df_projects.columns)\n",
    "df_projects.columns = [col.replace(' ', '') for col in cols]"
   ]
  },
  {
   "cell_type": "code",
   "execution_count": 14,
   "id": "8d646539",
   "metadata": {},
   "outputs": [
    {
     "output_type": "stream",
     "name": "stdout",
     "text": [
      "<class 'pandas.core.frame.DataFrame'>\nRangeIndex: 20433 entries, 0 to 20432\nData columns (total 26 columns):\n #   Column                           Non-Null Count  Dtype  \n---  ------                           --------------  -----  \n 0   ProjectID                        20433 non-null  object \n 1   Region                           20430 non-null  object \n 2   Country                          20430 non-null  object \n 3   ProjectStatus                    20431 non-null  object \n 4   ProjectName                      20433 non-null  object \n 5   ProjectDevelopmentObjective      10957 non-null  object \n 6   ImplementingAgency               6057 non-null   object \n 7   ConsultantServicesRequired       1230 non-null   object \n 8   ProjectURL                       20433 non-null  object \n 9   BoardApprovalDate                18158 non-null  object \n 10  ProjectClosingDate               16149 non-null  object \n 11  FinancingType                    12700 non-null  object \n 12  CurrentProjectCost               20297 non-null  float64\n 13  IBRDCommitment                   20433 non-null  int64  \n 14  IDACommitment                    20433 non-null  int64  \n 15  TotalIDAandIBRDCommitment        20433 non-null  int64  \n 16  GrantAmount                      20433 non-null  int64  \n 17  Borrower                         5822 non-null   object \n 18  LendingInstrument                20199 non-null  object \n 19  EnvironmentalAssessmentCategory  12606 non-null  object \n 20  EnvironmentalandSocialRisk       914 non-null    object \n 21  Sector1                          19103 non-null  object \n 22  Sector2                          10729 non-null  object \n 23  Sector3                          7276 non-null   object \n 24  Theme1                           12255 non-null  object \n 25  Theme2                           9895 non-null   object \ndtypes: float64(1), int64(4), object(21)\nmemory usage: 4.1+ MB\n"
     ]
    }
   ],
   "source": [
    "df_projects.info()"
   ]
  },
  {
   "cell_type": "code",
   "execution_count": 15,
   "id": "c927b530",
   "metadata": {},
   "outputs": [
    {
     "output_type": "execute_result",
     "data": {
      "text/plain": [
       "                                 count unique  \\\n",
       "ConsultantServicesRequired        1230      3   \n",
       "ProjectStatus                    20431      4   \n",
       "EnvironmentalandSocialRisk         914      4   \n",
       "EnvironmentalAssessmentCategory  12606      8   \n",
       "Region                           20430      9   \n",
       "LendingInstrument                20199     18   \n",
       "Theme1                           12255     73   \n",
       "Theme2                            9895     73   \n",
       "Sector3                           7276     91   \n",
       "Sector2                          10729    102   \n",
       "FinancingType                    12700    144   \n",
       "Sector1                          19103    159   \n",
       "Country                          20430    206   \n",
       "ProjectClosingDate               16149   1776   \n",
       "Borrower                          5822   2090   \n",
       "ImplementingAgency                6057   4312   \n",
       "BoardApprovalDate                18158   5804   \n",
       "ProjectDevelopmentObjective      10957   9378   \n",
       "ProjectName                      20433  17668   \n",
       "ProjectID                        20433  20433   \n",
       "ProjectURL                       20433  20433   \n",
       "\n",
       "                                                                               top  \\\n",
       "ConsultantServicesRequired                                                       Y   \n",
       "ProjectStatus                                                               Closed   \n",
       "EnvironmentalandSocialRisk                                             Substantial   \n",
       "EnvironmentalAssessmentCategory                                                  B   \n",
       "Region                                                 Latin America and Caribbean   \n",
       "LendingInstrument                                         Specific Investment Loan   \n",
       "Theme1                                           Rural services and infrastructure   \n",
       "Theme2                                           Rural services and infrastructure   \n",
       "Sector3                                      Central Government (Central Agencies)   \n",
       "Sector2                                      Central Government (Central Agencies)   \n",
       "FinancingType                                                                  IDA   \n",
       "Sector1                                      Central Government (Central Agencies)   \n",
       "Country                                                          Republic of India   \n",
       "ProjectClosingDate                                            2021-12-31T00:00:00Z   \n",
       "Borrower                                                       Ministry of Finance   \n",
       "ImplementingAgency                                             Ministry of Finance   \n",
       "BoardApprovalDate                                             2020-04-02T00:00:00Z   \n",
       "ProjectDevelopmentObjective      Project Development Objective (Note: will be d...   \n",
       "ProjectName                                                 Education Project (02)   \n",
       "ProjectID                                                                  P010280   \n",
       "ProjectURL                       http://projects.worldbank.org/P126871/climate-...   \n",
       "\n",
       "                                  freq  \n",
       "ConsultantServicesRequired         739  \n",
       "ProjectStatus                    15304  \n",
       "EnvironmentalandSocialRisk         392  \n",
       "EnvironmentalAssessmentCategory   5730  \n",
       "Region                            3632  \n",
       "LendingInstrument                 7668  \n",
       "Theme1                             866  \n",
       "Theme2                             723  \n",
       "Sector3                            759  \n",
       "Sector2                           1609  \n",
       "FinancingType                     3040  \n",
       "Sector1                           1775  \n",
       "Country                            867  \n",
       "ProjectClosingDate                 215  \n",
       "Borrower                           644  \n",
       "ImplementingAgency                 195  \n",
       "BoardApprovalDate                   28  \n",
       "ProjectDevelopmentObjective         47  \n",
       "ProjectName                         70  \n",
       "ProjectID                            1  \n",
       "ProjectURL                           1  "
      ],
      "text/html": "<div>\n<style scoped>\n    .dataframe tbody tr th:only-of-type {\n        vertical-align: middle;\n    }\n\n    .dataframe tbody tr th {\n        vertical-align: top;\n    }\n\n    .dataframe thead th {\n        text-align: right;\n    }\n</style>\n<table border=\"1\" class=\"dataframe\">\n  <thead>\n    <tr style=\"text-align: right;\">\n      <th></th>\n      <th>count</th>\n      <th>unique</th>\n      <th>top</th>\n      <th>freq</th>\n    </tr>\n  </thead>\n  <tbody>\n    <tr>\n      <th>ConsultantServicesRequired</th>\n      <td>1230</td>\n      <td>3</td>\n      <td>Y</td>\n      <td>739</td>\n    </tr>\n    <tr>\n      <th>ProjectStatus</th>\n      <td>20431</td>\n      <td>4</td>\n      <td>Closed</td>\n      <td>15304</td>\n    </tr>\n    <tr>\n      <th>EnvironmentalandSocialRisk</th>\n      <td>914</td>\n      <td>4</td>\n      <td>Substantial</td>\n      <td>392</td>\n    </tr>\n    <tr>\n      <th>EnvironmentalAssessmentCategory</th>\n      <td>12606</td>\n      <td>8</td>\n      <td>B</td>\n      <td>5730</td>\n    </tr>\n    <tr>\n      <th>Region</th>\n      <td>20430</td>\n      <td>9</td>\n      <td>Latin America and Caribbean</td>\n      <td>3632</td>\n    </tr>\n    <tr>\n      <th>LendingInstrument</th>\n      <td>20199</td>\n      <td>18</td>\n      <td>Specific Investment Loan</td>\n      <td>7668</td>\n    </tr>\n    <tr>\n      <th>Theme1</th>\n      <td>12255</td>\n      <td>73</td>\n      <td>Rural services and infrastructure</td>\n      <td>866</td>\n    </tr>\n    <tr>\n      <th>Theme2</th>\n      <td>9895</td>\n      <td>73</td>\n      <td>Rural services and infrastructure</td>\n      <td>723</td>\n    </tr>\n    <tr>\n      <th>Sector3</th>\n      <td>7276</td>\n      <td>91</td>\n      <td>Central Government (Central Agencies)</td>\n      <td>759</td>\n    </tr>\n    <tr>\n      <th>Sector2</th>\n      <td>10729</td>\n      <td>102</td>\n      <td>Central Government (Central Agencies)</td>\n      <td>1609</td>\n    </tr>\n    <tr>\n      <th>FinancingType</th>\n      <td>12700</td>\n      <td>144</td>\n      <td>IDA</td>\n      <td>3040</td>\n    </tr>\n    <tr>\n      <th>Sector1</th>\n      <td>19103</td>\n      <td>159</td>\n      <td>Central Government (Central Agencies)</td>\n      <td>1775</td>\n    </tr>\n    <tr>\n      <th>Country</th>\n      <td>20430</td>\n      <td>206</td>\n      <td>Republic of India</td>\n      <td>867</td>\n    </tr>\n    <tr>\n      <th>ProjectClosingDate</th>\n      <td>16149</td>\n      <td>1776</td>\n      <td>2021-12-31T00:00:00Z</td>\n      <td>215</td>\n    </tr>\n    <tr>\n      <th>Borrower</th>\n      <td>5822</td>\n      <td>2090</td>\n      <td>Ministry of Finance</td>\n      <td>644</td>\n    </tr>\n    <tr>\n      <th>ImplementingAgency</th>\n      <td>6057</td>\n      <td>4312</td>\n      <td>Ministry of Finance</td>\n      <td>195</td>\n    </tr>\n    <tr>\n      <th>BoardApprovalDate</th>\n      <td>18158</td>\n      <td>5804</td>\n      <td>2020-04-02T00:00:00Z</td>\n      <td>28</td>\n    </tr>\n    <tr>\n      <th>ProjectDevelopmentObjective</th>\n      <td>10957</td>\n      <td>9378</td>\n      <td>Project Development Objective (Note: will be d...</td>\n      <td>47</td>\n    </tr>\n    <tr>\n      <th>ProjectName</th>\n      <td>20433</td>\n      <td>17668</td>\n      <td>Education Project (02)</td>\n      <td>70</td>\n    </tr>\n    <tr>\n      <th>ProjectID</th>\n      <td>20433</td>\n      <td>20433</td>\n      <td>P010280</td>\n      <td>1</td>\n    </tr>\n    <tr>\n      <th>ProjectURL</th>\n      <td>20433</td>\n      <td>20433</td>\n      <td>http://projects.worldbank.org/P126871/climate-...</td>\n      <td>1</td>\n    </tr>\n  </tbody>\n</table>\n</div>"
     },
     "metadata": {},
     "execution_count": 15
    }
   ],
   "source": [
    "#ProjectID will be the primary key because all values are unique.\n",
    "df_projects.describe(include='O').T.sort_values(by=['unique', 'freq'], ascending=[True, False])"
   ]
  },
  {
   "cell_type": "code",
   "execution_count": 16,
   "id": "fe7fa10d",
   "metadata": {},
   "outputs": [
    {
     "output_type": "execute_result",
     "data": {
      "text/plain": [
       "Y      739\n",
       "N      298\n",
       "TBD    193\n",
       "Name: ConsultantServicesRequired, dtype: int64"
      ]
     },
     "metadata": {},
     "execution_count": 16
    }
   ],
   "source": [
    "df_projects.ConsultantServicesRequired.value_counts()"
   ]
  },
  {
   "cell_type": "code",
   "execution_count": 17,
   "id": "ff43ee2c",
   "metadata": {},
   "outputs": [],
   "source": [
    "df_projects.ProjectClosingDate = pd.to_datetime(df_projects.ProjectClosingDate).dt.date\n",
    "df_projects.BoardApprovalDate = pd.to_datetime(df_projects.BoardApprovalDate).dt.date"
   ]
  },
  {
   "cell_type": "code",
   "execution_count": 18,
   "id": "b258511c",
   "metadata": {},
   "outputs": [
    {
     "output_type": "execute_result",
     "data": {
      "text/plain": [
       "                                                                                 0\n",
       "ProjectID                                                                  P163945\n",
       "Region                                                                 Africa West\n",
       "Country                                                             Western Africa\n",
       "ProjectStatus                                                               Active\n",
       "ProjectName                      Investments towards Resilient Management of GCLME\n",
       "ProjectDevelopmentObjective      To reduce the vulnerability of coastal areas a...\n",
       "ImplementingAgency               Sao Tome and Principe - Ministry of  Infrastru...\n",
       "ConsultantServicesRequired                                                     NaN\n",
       "ProjectURL                       http://projects.worldbank.org/P163945/null?lan...\n",
       "BoardApprovalDate                                                       2021-06-18\n",
       "ProjectClosingDate                                                             NaT\n",
       "FinancingType                                                                Other\n",
       "CurrentProjectCost                                                             NaN\n",
       "IBRDCommitment                                                                   0\n",
       "IDACommitment                                                                    0\n",
       "TotalIDAandIBRDCommitment                                                        0\n",
       "GrantAmount                                                               20250000\n",
       "Borrower                         Cote d'Ivoire - Ministry of Economy and Financ...\n",
       "LendingInstrument                                     Investment Project Financing\n",
       "EnvironmentalAssessmentCategory                                                NaN\n",
       "EnvironmentalandSocialRisk                                                     NaN\n",
       "Sector1                                    Other Agriculture, Fishing and Forestry\n",
       "Sector2                                                Other Public Administration\n",
       "Sector3                                                          Social Protection\n",
       "Theme1                                                                         NaN\n",
       "Theme2                                                                         NaN"
      ],
      "text/html": "<div>\n<style scoped>\n    .dataframe tbody tr th:only-of-type {\n        vertical-align: middle;\n    }\n\n    .dataframe tbody tr th {\n        vertical-align: top;\n    }\n\n    .dataframe thead th {\n        text-align: right;\n    }\n</style>\n<table border=\"1\" class=\"dataframe\">\n  <thead>\n    <tr style=\"text-align: right;\">\n      <th></th>\n      <th>0</th>\n    </tr>\n  </thead>\n  <tbody>\n    <tr>\n      <th>ProjectID</th>\n      <td>P163945</td>\n    </tr>\n    <tr>\n      <th>Region</th>\n      <td>Africa West</td>\n    </tr>\n    <tr>\n      <th>Country</th>\n      <td>Western Africa</td>\n    </tr>\n    <tr>\n      <th>ProjectStatus</th>\n      <td>Active</td>\n    </tr>\n    <tr>\n      <th>ProjectName</th>\n      <td>Investments towards Resilient Management of GCLME</td>\n    </tr>\n    <tr>\n      <th>ProjectDevelopmentObjective</th>\n      <td>To reduce the vulnerability of coastal areas a...</td>\n    </tr>\n    <tr>\n      <th>ImplementingAgency</th>\n      <td>Sao Tome and Principe - Ministry of  Infrastru...</td>\n    </tr>\n    <tr>\n      <th>ConsultantServicesRequired</th>\n      <td>NaN</td>\n    </tr>\n    <tr>\n      <th>ProjectURL</th>\n      <td>http://projects.worldbank.org/P163945/null?lan...</td>\n    </tr>\n    <tr>\n      <th>BoardApprovalDate</th>\n      <td>2021-06-18</td>\n    </tr>\n    <tr>\n      <th>ProjectClosingDate</th>\n      <td>NaT</td>\n    </tr>\n    <tr>\n      <th>FinancingType</th>\n      <td>Other</td>\n    </tr>\n    <tr>\n      <th>CurrentProjectCost</th>\n      <td>NaN</td>\n    </tr>\n    <tr>\n      <th>IBRDCommitment</th>\n      <td>0</td>\n    </tr>\n    <tr>\n      <th>IDACommitment</th>\n      <td>0</td>\n    </tr>\n    <tr>\n      <th>TotalIDAandIBRDCommitment</th>\n      <td>0</td>\n    </tr>\n    <tr>\n      <th>GrantAmount</th>\n      <td>20250000</td>\n    </tr>\n    <tr>\n      <th>Borrower</th>\n      <td>Cote d'Ivoire - Ministry of Economy and Financ...</td>\n    </tr>\n    <tr>\n      <th>LendingInstrument</th>\n      <td>Investment Project Financing</td>\n    </tr>\n    <tr>\n      <th>EnvironmentalAssessmentCategory</th>\n      <td>NaN</td>\n    </tr>\n    <tr>\n      <th>EnvironmentalandSocialRisk</th>\n      <td>NaN</td>\n    </tr>\n    <tr>\n      <th>Sector1</th>\n      <td>Other Agriculture, Fishing and Forestry</td>\n    </tr>\n    <tr>\n      <th>Sector2</th>\n      <td>Other Public Administration</td>\n    </tr>\n    <tr>\n      <th>Sector3</th>\n      <td>Social Protection</td>\n    </tr>\n    <tr>\n      <th>Theme1</th>\n      <td>NaN</td>\n    </tr>\n    <tr>\n      <th>Theme2</th>\n      <td>NaN</td>\n    </tr>\n  </tbody>\n</table>\n</div>"
     },
     "metadata": {},
     "execution_count": 18
    }
   ],
   "source": [
    "df_projects.head(1).T"
   ]
  },
  {
   "cell_type": "code",
   "execution_count": 19,
   "metadata": {},
   "outputs": [],
   "source": [
    "# df_contracts.to_csv('.\\data\\raw\\contracts.csv', index=False)\n",
    "# df_projects.to_csv('.\\data\\raw\\projects.csv', index=False)"
   ]
  },
  {
   "cell_type": "markdown",
   "id": "415ccffb",
   "metadata": {},
   "source": [
    "# Create Table SCHEMAS\n",
    "\n",
    "## `contracts` SCHEMA"
   ]
  },
  {
   "cell_type": "code",
   "execution_count": 20,
   "id": "bb4ea53f",
   "metadata": {},
   "outputs": [
    {
     "output_type": "execute_result",
     "data": {
      "text/plain": [
       "                             column           dtype  min_characters  \\\n",
       "0                        FiscalYear           int64               4   \n",
       "1                            Region          object               3   \n",
       "2                   BorrowerCountry          object               4   \n",
       "3               BorrowerCountryCode          object               2   \n",
       "4                         ProjectID          object               7   \n",
       "5                       ProjectName          object               3   \n",
       "6                   ProcurementType          object              12   \n",
       "7               ProcurementCategory          object               5   \n",
       "8                 ProcurementMethod          object               2   \n",
       "9                       Productline          object               3   \n",
       "10                      MajorSector          object               5   \n",
       "11                 WBContractNumber           int64               7   \n",
       "12              ContractDescription          object               1   \n",
       "13              ContractSigningDate  datetime64[ns]               3   \n",
       "14                         Supplier          object               2   \n",
       "15                  SupplierCountry          object               4   \n",
       "16              SupplierCountryCode          object               2   \n",
       "17                    SupplierState          object               4   \n",
       "18         TotalContractAmount(USD)           int64               1   \n",
       "19  BorrowerContractReferenceNumber          object               1   \n",
       "20                   UNSupplierFlag            bool               4   \n",
       "\n",
       "    max_characters  \n",
       "0                4  \n",
       "1                3  \n",
       "2               15  \n",
       "3                3  \n",
       "4                7  \n",
       "5               40  \n",
       "6               40  \n",
       "7               23  \n",
       "8               40  \n",
       "9               20  \n",
       "10              20  \n",
       "11               7  \n",
       "12              63  \n",
       "13              10  \n",
       "14              60  \n",
       "15              15  \n",
       "16               3  \n",
       "17              20  \n",
       "18              10  \n",
       "19              32  \n",
       "20               5  "
      ],
      "text/html": "<div>\n<style scoped>\n    .dataframe tbody tr th:only-of-type {\n        vertical-align: middle;\n    }\n\n    .dataframe tbody tr th {\n        vertical-align: top;\n    }\n\n    .dataframe thead th {\n        text-align: right;\n    }\n</style>\n<table border=\"1\" class=\"dataframe\">\n  <thead>\n    <tr style=\"text-align: right;\">\n      <th></th>\n      <th>column</th>\n      <th>dtype</th>\n      <th>min_characters</th>\n      <th>max_characters</th>\n    </tr>\n  </thead>\n  <tbody>\n    <tr>\n      <th>0</th>\n      <td>FiscalYear</td>\n      <td>int64</td>\n      <td>4</td>\n      <td>4</td>\n    </tr>\n    <tr>\n      <th>1</th>\n      <td>Region</td>\n      <td>object</td>\n      <td>3</td>\n      <td>3</td>\n    </tr>\n    <tr>\n      <th>2</th>\n      <td>BorrowerCountry</td>\n      <td>object</td>\n      <td>4</td>\n      <td>15</td>\n    </tr>\n    <tr>\n      <th>3</th>\n      <td>BorrowerCountryCode</td>\n      <td>object</td>\n      <td>2</td>\n      <td>3</td>\n    </tr>\n    <tr>\n      <th>4</th>\n      <td>ProjectID</td>\n      <td>object</td>\n      <td>7</td>\n      <td>7</td>\n    </tr>\n    <tr>\n      <th>5</th>\n      <td>ProjectName</td>\n      <td>object</td>\n      <td>3</td>\n      <td>40</td>\n    </tr>\n    <tr>\n      <th>6</th>\n      <td>ProcurementType</td>\n      <td>object</td>\n      <td>12</td>\n      <td>40</td>\n    </tr>\n    <tr>\n      <th>7</th>\n      <td>ProcurementCategory</td>\n      <td>object</td>\n      <td>5</td>\n      <td>23</td>\n    </tr>\n    <tr>\n      <th>8</th>\n      <td>ProcurementMethod</td>\n      <td>object</td>\n      <td>2</td>\n      <td>40</td>\n    </tr>\n    <tr>\n      <th>9</th>\n      <td>Productline</td>\n      <td>object</td>\n      <td>3</td>\n      <td>20</td>\n    </tr>\n    <tr>\n      <th>10</th>\n      <td>MajorSector</td>\n      <td>object</td>\n      <td>5</td>\n      <td>20</td>\n    </tr>\n    <tr>\n      <th>11</th>\n      <td>WBContractNumber</td>\n      <td>int64</td>\n      <td>7</td>\n      <td>7</td>\n    </tr>\n    <tr>\n      <th>12</th>\n      <td>ContractDescription</td>\n      <td>object</td>\n      <td>1</td>\n      <td>63</td>\n    </tr>\n    <tr>\n      <th>13</th>\n      <td>ContractSigningDate</td>\n      <td>datetime64[ns]</td>\n      <td>3</td>\n      <td>10</td>\n    </tr>\n    <tr>\n      <th>14</th>\n      <td>Supplier</td>\n      <td>object</td>\n      <td>2</td>\n      <td>60</td>\n    </tr>\n    <tr>\n      <th>15</th>\n      <td>SupplierCountry</td>\n      <td>object</td>\n      <td>4</td>\n      <td>15</td>\n    </tr>\n    <tr>\n      <th>16</th>\n      <td>SupplierCountryCode</td>\n      <td>object</td>\n      <td>2</td>\n      <td>3</td>\n    </tr>\n    <tr>\n      <th>17</th>\n      <td>SupplierState</td>\n      <td>object</td>\n      <td>4</td>\n      <td>20</td>\n    </tr>\n    <tr>\n      <th>18</th>\n      <td>TotalContractAmount(USD)</td>\n      <td>int64</td>\n      <td>1</td>\n      <td>10</td>\n    </tr>\n    <tr>\n      <th>19</th>\n      <td>BorrowerContractReferenceNumber</td>\n      <td>object</td>\n      <td>1</td>\n      <td>32</td>\n    </tr>\n    <tr>\n      <th>20</th>\n      <td>UNSupplierFlag</td>\n      <td>bool</td>\n      <td>4</td>\n      <td>5</td>\n    </tr>\n  </tbody>\n</table>\n</div>"
     },
     "metadata": {},
     "execution_count": 20
    }
   ],
   "source": [
    "length_max = []\n",
    "length_min = []\n",
    "datatypes = []\n",
    "\n",
    "for col in df_contracts.columns:\n",
    "    datatypes.append(df_contracts[col].dtype)\n",
    "\n",
    "    l_max = df_contracts[col].astype('str').str.len().max()\n",
    "    l_min = df_contracts[col].astype('str').str.len().min()\n",
    "\n",
    "    length_max.append(l_max)\n",
    "    length_min.append(l_min)\n",
    "\n",
    "pd.DataFrame({'column':df_contracts.columns,\n",
    "              'dtype':datatypes,\n",
    "              'min_characters':length_min,\n",
    "              'max_characters':length_max})"
   ]
  },
  {
   "cell_type": "code",
   "execution_count": 21,
   "id": "6e0177d0",
   "metadata": {},
   "outputs": [],
   "source": [
    "# contracts SCHEMA\n",
    "\n",
    "# CREATE TABLE `contracts` (\n",
    "#   `FiscalYear` year DEFAULT NULL,\n",
    "#   `Region` char(3),\n",
    "#   `BorrowerCountry` varchar(15),\n",
    "#   `BorrowerCountryCode` varchar(3),\n",
    "#   `ProjectID` char(7),\n",
    "#   `ProjectName` varchar(40),\n",
    "#   `ProcurementType` varchar(40),\n",
    "#   `ProcurementCategory` varchar(23),\n",
    "#   `ProcurementMethod` varchar(40),\n",
    "#   `Productline` varchar(20),\n",
    "#   `MajorSector` varchar(20),\n",
    "#   `WBContractNumber` int(7) DEFAULT NULL,\n",
    "#   `ContractDescription` text,\n",
    "#   `ContractSigningDate date` ,\n",
    "#   `Supplier` text,\n",
    "#   `SupplierCountry` varchar(15),\n",
    "#   `SupplierCountryCode` varchar(3),\n",
    "#   `SupplierState` varchar(20),\n",
    "#   `TotalContractAmounts(USD)` bigint DEFAULT NULL,\n",
    "#   `BorrowerContractReferenceNumber` text,\n",
    "#   `UNSupplierFlag` bool\n",
    "#   KEY `ProjectID_idx` (`ProjectID`),\n",
    "#   CONSTRAINT `ProjectID` FOREIGN KEY (`ProjectID`) REFERENCES `projects` (`ProjectID`)\n",
    "# ) ENGINE=InnoDB DEFAULT CHARSET=utf8mb4 COLLATE=utf8mb4_0900_ai_ci"
   ]
  },
  {
   "cell_type": "markdown",
   "id": "a9967d01",
   "metadata": {},
   "source": [
    "## `projects` SCHEMA"
   ]
  },
  {
   "cell_type": "code",
   "execution_count": 22,
   "id": "e48c05fa",
   "metadata": {},
   "outputs": [
    {
     "output_type": "execute_result",
     "data": {
      "text/plain": [
       "                             column    dtype  min_characters  max_characters\n",
       "0                         ProjectID   object               7               7\n",
       "1                            Region   object               3              28\n",
       "2                           Country   object               3              40\n",
       "3                     ProjectStatus   object               3               8\n",
       "4                       ProjectName   object               3             142\n",
       "5       ProjectDevelopmentObjective   object               1            4000\n",
       "6                ImplementingAgency   object               3             947\n",
       "7        ConsultantServicesRequired   object               1               3\n",
       "8                        ProjectURL   object              49             162\n",
       "9                 BoardApprovalDate   object               3              10\n",
       "10               ProjectClosingDate   object               3              10\n",
       "11                    FinancingType   object               3              87\n",
       "12               CurrentProjectCost  float64               3              13\n",
       "13                   IBRDCommitment    int64               1              10\n",
       "14                    IDACommitment    int64               1              10\n",
       "15        TotalIDAandIBRDCommitment    int64               1              10\n",
       "16                      GrantAmount    int64               1              10\n",
       "17                         Borrower   object               3             460\n",
       "18                LendingInstrument   object               3              39\n",
       "19  EnvironmentalAssessmentCategory   object               1               3\n",
       "20       EnvironmentalandSocialRisk   object               3              11\n",
       "21                          Sector1   object               3              90\n",
       "22                          Sector2   object               3              67\n",
       "23                          Sector3   object               3              67\n",
       "24                           Theme1   object               3              59\n",
       "25                           Theme2   object               3              59"
      ],
      "text/html": "<div>\n<style scoped>\n    .dataframe tbody tr th:only-of-type {\n        vertical-align: middle;\n    }\n\n    .dataframe tbody tr th {\n        vertical-align: top;\n    }\n\n    .dataframe thead th {\n        text-align: right;\n    }\n</style>\n<table border=\"1\" class=\"dataframe\">\n  <thead>\n    <tr style=\"text-align: right;\">\n      <th></th>\n      <th>column</th>\n      <th>dtype</th>\n      <th>min_characters</th>\n      <th>max_characters</th>\n    </tr>\n  </thead>\n  <tbody>\n    <tr>\n      <th>0</th>\n      <td>ProjectID</td>\n      <td>object</td>\n      <td>7</td>\n      <td>7</td>\n    </tr>\n    <tr>\n      <th>1</th>\n      <td>Region</td>\n      <td>object</td>\n      <td>3</td>\n      <td>28</td>\n    </tr>\n    <tr>\n      <th>2</th>\n      <td>Country</td>\n      <td>object</td>\n      <td>3</td>\n      <td>40</td>\n    </tr>\n    <tr>\n      <th>3</th>\n      <td>ProjectStatus</td>\n      <td>object</td>\n      <td>3</td>\n      <td>8</td>\n    </tr>\n    <tr>\n      <th>4</th>\n      <td>ProjectName</td>\n      <td>object</td>\n      <td>3</td>\n      <td>142</td>\n    </tr>\n    <tr>\n      <th>5</th>\n      <td>ProjectDevelopmentObjective</td>\n      <td>object</td>\n      <td>1</td>\n      <td>4000</td>\n    </tr>\n    <tr>\n      <th>6</th>\n      <td>ImplementingAgency</td>\n      <td>object</td>\n      <td>3</td>\n      <td>947</td>\n    </tr>\n    <tr>\n      <th>7</th>\n      <td>ConsultantServicesRequired</td>\n      <td>object</td>\n      <td>1</td>\n      <td>3</td>\n    </tr>\n    <tr>\n      <th>8</th>\n      <td>ProjectURL</td>\n      <td>object</td>\n      <td>49</td>\n      <td>162</td>\n    </tr>\n    <tr>\n      <th>9</th>\n      <td>BoardApprovalDate</td>\n      <td>object</td>\n      <td>3</td>\n      <td>10</td>\n    </tr>\n    <tr>\n      <th>10</th>\n      <td>ProjectClosingDate</td>\n      <td>object</td>\n      <td>3</td>\n      <td>10</td>\n    </tr>\n    <tr>\n      <th>11</th>\n      <td>FinancingType</td>\n      <td>object</td>\n      <td>3</td>\n      <td>87</td>\n    </tr>\n    <tr>\n      <th>12</th>\n      <td>CurrentProjectCost</td>\n      <td>float64</td>\n      <td>3</td>\n      <td>13</td>\n    </tr>\n    <tr>\n      <th>13</th>\n      <td>IBRDCommitment</td>\n      <td>int64</td>\n      <td>1</td>\n      <td>10</td>\n    </tr>\n    <tr>\n      <th>14</th>\n      <td>IDACommitment</td>\n      <td>int64</td>\n      <td>1</td>\n      <td>10</td>\n    </tr>\n    <tr>\n      <th>15</th>\n      <td>TotalIDAandIBRDCommitment</td>\n      <td>int64</td>\n      <td>1</td>\n      <td>10</td>\n    </tr>\n    <tr>\n      <th>16</th>\n      <td>GrantAmount</td>\n      <td>int64</td>\n      <td>1</td>\n      <td>10</td>\n    </tr>\n    <tr>\n      <th>17</th>\n      <td>Borrower</td>\n      <td>object</td>\n      <td>3</td>\n      <td>460</td>\n    </tr>\n    <tr>\n      <th>18</th>\n      <td>LendingInstrument</td>\n      <td>object</td>\n      <td>3</td>\n      <td>39</td>\n    </tr>\n    <tr>\n      <th>19</th>\n      <td>EnvironmentalAssessmentCategory</td>\n      <td>object</td>\n      <td>1</td>\n      <td>3</td>\n    </tr>\n    <tr>\n      <th>20</th>\n      <td>EnvironmentalandSocialRisk</td>\n      <td>object</td>\n      <td>3</td>\n      <td>11</td>\n    </tr>\n    <tr>\n      <th>21</th>\n      <td>Sector1</td>\n      <td>object</td>\n      <td>3</td>\n      <td>90</td>\n    </tr>\n    <tr>\n      <th>22</th>\n      <td>Sector2</td>\n      <td>object</td>\n      <td>3</td>\n      <td>67</td>\n    </tr>\n    <tr>\n      <th>23</th>\n      <td>Sector3</td>\n      <td>object</td>\n      <td>3</td>\n      <td>67</td>\n    </tr>\n    <tr>\n      <th>24</th>\n      <td>Theme1</td>\n      <td>object</td>\n      <td>3</td>\n      <td>59</td>\n    </tr>\n    <tr>\n      <th>25</th>\n      <td>Theme2</td>\n      <td>object</td>\n      <td>3</td>\n      <td>59</td>\n    </tr>\n  </tbody>\n</table>\n</div>"
     },
     "metadata": {},
     "execution_count": 22
    }
   ],
   "source": [
    "length_max = []\n",
    "length_min = []\n",
    "datatypes = []\n",
    "\n",
    "for col in df_projects.columns:\n",
    "    datatypes.append(df_projects[col].dtype)\n",
    "\n",
    "    l_max = df_projects[col].astype('str').str.len().max()\n",
    "    l_min = df_projects[col].astype('str').str.len().min()\n",
    "\n",
    "    length_max.append(l_max)\n",
    "    length_min.append(l_min)\n",
    "\n",
    "pd.DataFrame({'column':df_projects.columns,\n",
    "              'dtype':datatypes,\n",
    "              'min_characters':length_min,\n",
    "              'max_characters':length_max})"
   ]
  },
  {
   "cell_type": "code",
   "execution_count": 23,
   "id": "73c00f0d",
   "metadata": {},
   "outputs": [],
   "source": [
    "# projects SCHEMA\n",
    "\n",
    "# CREATE TABLE `projects` (\n",
    "#   `ProjectID` char(7),\n",
    "#   `Region` text,\n",
    "#   `Counrtry` text,\n",
    "#   `ProjectStatus` varchar(8),\n",
    "#   `ProjectName` text,\n",
    "#   `ProjectDevelopmentObjective` text,\n",
    "#   `ImplementingAgency` text,\n",
    "#   `ConsultantServicesRequired` varchar(3),\n",
    "#   `ProjectURL` text,\n",
    "#   `BoardApprovalDate` date,\n",
    "#   `ProjectClosingDate` date,\n",
    "#   `FinancingType` text,\n",
    "#   `CurrentProjectCost` double,\n",
    "#   `IBRDCommitment` bigint,\n",
    "#   `IDACommitment` bigint,\n",
    "#   `TotalIDAandIBRDCommitment` bigint,\n",
    "#   `GrantAmount` bigint,\n",
    "#   `Borrower` text,\n",
    "#   `LendingInstrument` text,\n",
    "#   `EnvironmentalAssessmentCategory` varchar(3),\n",
    "#   `EnvironmentalandSocialRisk` varchar(11),\n",
    "#   `Sector1` text,\n",
    "#   `Sector2` text,\n",
    "#   `Sector3` text,\n",
    "#   `Theme1` text,\n",
    "#   `Theme2` text,\n",
    "#   `Theme3` text,\n",
    "#   PRIMARY KEY (ProjectID)\n",
    "# ) ENGINE=InnoDB DEFAULT CHARSET=utf8mb4 COLLATE=utf8mb4_0900_ai_ci"
   ]
  },
  {
   "source": [
    "## Create Tables Using SCHEMAS\n",
    "When creating the new tables for the `worldbank` database, we need to create the `projects` table __first__.\n",
    "\n",
    "Why?\n",
    "\n",
    "The `projects` table contains the primary key that connects records from the `contracts` table. SQL has built-in data consistency between tables known as \"Referential Integrity\". If the primary table is altered, it affects any table that is linked to it by a foreign key.\n",
    "\n",
    "__INSERTing Data__\n",
    "\n",
    "From the perspective of the foreign table, the table that contains the primary key is the source of life. You cannot update a foreign table with new keys directly. You must change the source first before you can change the residual."
   ],
   "cell_type": "markdown",
   "metadata": {}
  },
  {
   "cell_type": "code",
   "execution_count": 24,
   "metadata": {},
   "outputs": [
    {
     "output_type": "execute_result",
     "data": {
      "text/plain": [
       "0"
      ]
     },
     "metadata": {},
     "execution_count": 24
    }
   ],
   "source": [
    "cursor.execute(\"\"\"CREATE TABLE IF NOT EXISTS `projects` (\n",
    "  `ProjectID` char(7) PRIMARY KEY,\n",
    "  `Region` text,\n",
    "  `Country` text,\n",
    "  `ProjectStatus` varchar(8),\n",
    "  `ProjectName` text,\n",
    "  `ProjectDevelopmentObjective` text,\n",
    "  `ImplementingAgency` text,\n",
    "  `ConsultantServicesRequired` varchar(3),\n",
    "  `ProjectURL` text,\n",
    "  `BoardApprovalDate` date,\n",
    "  `ProjectClosingDate` date,\n",
    "  `FinancingType` text,\n",
    "  `CurrentProjectCost` double,\n",
    "  `IBRDCommitment` bigint,\n",
    "  `IDACommitment` bigint,\n",
    "  `TotalIDAandIBRDCommitment` bigint,\n",
    "  `GrantAmount` bigint,\n",
    "  `Borrower` text,\n",
    "  `LendingInstrument` text,\n",
    "  `EnvironmentalAssessmentCategory` varchar(3),\n",
    "  `EnvironmentalandSocialRisk` varchar(11),\n",
    "  `Sector1` text,\n",
    "  `Sector2` text,\n",
    "  `Sector3` text,\n",
    "  `Theme1` text,\n",
    "  `Theme2` text,\n",
    "  `Theme3` text\n",
    ") ENGINE=InnoDB DEFAULT CHARSET=utf8mb4 COLLATE=utf8mb4_0900_ai_ci\"\"\")"
   ]
  },
  {
   "cell_type": "code",
   "execution_count": 25,
   "metadata": {},
   "outputs": [
    {
     "output_type": "execute_result",
     "data": {
      "text/plain": [
       "0"
      ]
     },
     "metadata": {},
     "execution_count": 25
    }
   ],
   "source": [
    "cursor.execute(\"\"\"CREATE TABLE IF NOT EXISTS `contracts` (\n",
    "  `FiscalYear` year DEFAULT NULL,\n",
    "  `Region` char(3),\n",
    "  `BorrowerCountry` varchar(15),\n",
    "  `BorrowerCountryCode` varchar(3),\n",
    "  `ProjectID` char(7),\n",
    "  `ProjectName` varchar(40),\n",
    "  `ProcurementType` varchar(40),\n",
    "  `ProcurementCategory` varchar(23),\n",
    "  `ProcurementMethod` varchar(40),\n",
    "  `Productline` varchar(20),\n",
    "  `MajorSector` varchar(20),\n",
    "  `WBContractNumber` int(7) DEFAULT NULL,\n",
    "  `ContractDescription` text,\n",
    "  `ContractSigningDate` date,\n",
    "  `Supplier` text,\n",
    "  `SupplierCountry` varchar(15),\n",
    "  `SupplierCountryCode` varchar(3),\n",
    "  `SupplierState` varchar(20),\n",
    "  `TotalContractAmount(USD)` bigint DEFAULT NULL,\n",
    "  `BorrowerContractReferenceNumber` text,\n",
    "  `UNSupplierFlag` bool,\n",
    "  KEY `ProjectID_idx` (`ProjectID`),\n",
    "  CONSTRAINT `ProjectID` FOREIGN KEY (`ProjectID`) REFERENCES `projects` (`ProjectID`)\n",
    ") ENGINE=InnoDB DEFAULT CHARSET=utf8mb4 COLLATE=utf8mb4_0900_ai_ci\"\"\")"
   ]
  },
  {
   "source": [
    "## Insert Data into Tables"
   ],
   "cell_type": "markdown",
   "metadata": {}
  },
  {
   "cell_type": "code",
   "execution_count": 27,
   "metadata": {},
   "outputs": [],
   "source": [
    "# df_projects.to_sql('projects', con=thread, if_exists='append', index=False)\n",
    "# df_contracts.to_sql('contracts', con=thread, if_exists='append', index=False)"
   ]
  },
  {
   "cell_type": "code",
   "execution_count": 28,
   "metadata": {},
   "outputs": [
    {
     "output_type": "execute_result",
     "data": {
      "text/plain": [
       "  ProjectID       Region             Country ProjectStatus  \\\n",
       "0   P000001       Africa              Africa        Closed   \n",
       "1   P000003       Africa              Africa        Closed   \n",
       "2   P000010       Africa              Africa        Closed   \n",
       "3   P000017       Africa              Africa        Closed   \n",
       "4   P000031  Africa East  Republic of Angola       Dropped   \n",
       "\n",
       "                                         ProjectName  \\\n",
       "0  West Africa Pilot Community-based Natural Reso...   \n",
       "1                                REIMP(CEN.ENV.INFO)   \n",
       "2                  Regional Development Project (03)   \n",
       "3       Engineering and Technical Assistance Project   \n",
       "4                          Manpower Training Project   \n",
       "\n",
       "                         ProjectDevelopmentObjective ImplementingAgency  \\\n",
       "0                                               None               None   \n",
       "1                                               None               None   \n",
       "2                                               None               None   \n",
       "3                                               None               None   \n",
       "4  THE PROJECT WILL (A) PROMOTE SKILLS DEVELOPMEN...               None   \n",
       "\n",
       "  ConsultantServicesRequired  \\\n",
       "0                       None   \n",
       "1                       None   \n",
       "2                       None   \n",
       "3                       None   \n",
       "4                       None   \n",
       "\n",
       "                                          ProjectURL BoardApprovalDate  ...  \\\n",
       "0  http://projects.worldbank.org/P000001/west-afr...        1995-09-14  ...   \n",
       "1  http://projects.worldbank.org/P000003/reimpcen...        1997-12-18  ...   \n",
       "2  http://projects.worldbank.org/P000010/null?lan...        1990-02-01  ...   \n",
       "3  http://projects.worldbank.org/P000017/engineer...        1992-05-19  ...   \n",
       "4  http://projects.worldbank.org/P000031/manpower...              None  ...   \n",
       "\n",
       "  Borrower            LendingInstrument  EnvironmentalAssessmentCategory  \\\n",
       "0     None     Specific Investment Loan                                B   \n",
       "1     None     Specific Investment Loan                                C   \n",
       "2     None  Financial Intermediary Loan                                B   \n",
       "3     None    Technical Assistance Loan                                C   \n",
       "4     None     Specific Investment Loan                                C   \n",
       "\n",
       "   EnvironmentalandSocialRisk                      Sector1  \\\n",
       "0                        None      Sub-National Government   \n",
       "1                        None  Other Public Administration   \n",
       "2                        None         Banking Institutions   \n",
       "3                        None                        Power   \n",
       "4                        None            Social Protection   \n",
       "\n",
       "                                             Sector2  \\\n",
       "0                                  Social Protection   \n",
       "1  Other Information and Communications Technologies   \n",
       "2            Other Agriculture, Fishing and Forestry   \n",
       "3                                               None   \n",
       "4                                    Other Education   \n",
       "\n",
       "                                   Sector3  \\\n",
       "0  Other Agriculture, Fishing and Forestry   \n",
       "1                        Social Protection   \n",
       "2                     Other Transportation   \n",
       "3                                     None   \n",
       "4                                     None   \n",
       "\n",
       "                                        Theme1  \\\n",
       "0            Rural services and infrastructure   \n",
       "1           Land administration and management   \n",
       "2      Environmental policies and institutions   \n",
       "3      Legal institutions for a market economy   \n",
       "4  Other social protection and risk management   \n",
       "\n",
       "                                           Theme2 Theme3  \n",
       "0                                    Biodiversity   None  \n",
       "1         Environmental policies and institutions   None  \n",
       "2  Other financial and private sector development   None  \n",
       "3                            Regional integration   None  \n",
       "4                                            None   None  \n",
       "\n",
       "[5 rows x 27 columns]"
      ],
      "text/html": "<div>\n<style scoped>\n    .dataframe tbody tr th:only-of-type {\n        vertical-align: middle;\n    }\n\n    .dataframe tbody tr th {\n        vertical-align: top;\n    }\n\n    .dataframe thead th {\n        text-align: right;\n    }\n</style>\n<table border=\"1\" class=\"dataframe\">\n  <thead>\n    <tr style=\"text-align: right;\">\n      <th></th>\n      <th>ProjectID</th>\n      <th>Region</th>\n      <th>Country</th>\n      <th>ProjectStatus</th>\n      <th>ProjectName</th>\n      <th>ProjectDevelopmentObjective</th>\n      <th>ImplementingAgency</th>\n      <th>ConsultantServicesRequired</th>\n      <th>ProjectURL</th>\n      <th>BoardApprovalDate</th>\n      <th>...</th>\n      <th>Borrower</th>\n      <th>LendingInstrument</th>\n      <th>EnvironmentalAssessmentCategory</th>\n      <th>EnvironmentalandSocialRisk</th>\n      <th>Sector1</th>\n      <th>Sector2</th>\n      <th>Sector3</th>\n      <th>Theme1</th>\n      <th>Theme2</th>\n      <th>Theme3</th>\n    </tr>\n  </thead>\n  <tbody>\n    <tr>\n      <th>0</th>\n      <td>P000001</td>\n      <td>Africa</td>\n      <td>Africa</td>\n      <td>Closed</td>\n      <td>West Africa Pilot Community-based Natural Reso...</td>\n      <td>None</td>\n      <td>None</td>\n      <td>None</td>\n      <td>http://projects.worldbank.org/P000001/west-afr...</td>\n      <td>1995-09-14</td>\n      <td>...</td>\n      <td>None</td>\n      <td>Specific Investment Loan</td>\n      <td>B</td>\n      <td>None</td>\n      <td>Sub-National Government</td>\n      <td>Social Protection</td>\n      <td>Other Agriculture, Fishing and Forestry</td>\n      <td>Rural services and infrastructure</td>\n      <td>Biodiversity</td>\n      <td>None</td>\n    </tr>\n    <tr>\n      <th>1</th>\n      <td>P000003</td>\n      <td>Africa</td>\n      <td>Africa</td>\n      <td>Closed</td>\n      <td>REIMP(CEN.ENV.INFO)</td>\n      <td>None</td>\n      <td>None</td>\n      <td>None</td>\n      <td>http://projects.worldbank.org/P000003/reimpcen...</td>\n      <td>1997-12-18</td>\n      <td>...</td>\n      <td>None</td>\n      <td>Specific Investment Loan</td>\n      <td>C</td>\n      <td>None</td>\n      <td>Other Public Administration</td>\n      <td>Other Information and Communications Technologies</td>\n      <td>Social Protection</td>\n      <td>Land administration and management</td>\n      <td>Environmental policies and institutions</td>\n      <td>None</td>\n    </tr>\n    <tr>\n      <th>2</th>\n      <td>P000010</td>\n      <td>Africa</td>\n      <td>Africa</td>\n      <td>Closed</td>\n      <td>Regional Development Project (03)</td>\n      <td>None</td>\n      <td>None</td>\n      <td>None</td>\n      <td>http://projects.worldbank.org/P000010/null?lan...</td>\n      <td>1990-02-01</td>\n      <td>...</td>\n      <td>None</td>\n      <td>Financial Intermediary Loan</td>\n      <td>B</td>\n      <td>None</td>\n      <td>Banking Institutions</td>\n      <td>Other Agriculture, Fishing and Forestry</td>\n      <td>Other Transportation</td>\n      <td>Environmental policies and institutions</td>\n      <td>Other financial and private sector development</td>\n      <td>None</td>\n    </tr>\n    <tr>\n      <th>3</th>\n      <td>P000017</td>\n      <td>Africa</td>\n      <td>Africa</td>\n      <td>Closed</td>\n      <td>Engineering and Technical Assistance Project</td>\n      <td>None</td>\n      <td>None</td>\n      <td>None</td>\n      <td>http://projects.worldbank.org/P000017/engineer...</td>\n      <td>1992-05-19</td>\n      <td>...</td>\n      <td>None</td>\n      <td>Technical Assistance Loan</td>\n      <td>C</td>\n      <td>None</td>\n      <td>Power</td>\n      <td>None</td>\n      <td>None</td>\n      <td>Legal institutions for a market economy</td>\n      <td>Regional integration</td>\n      <td>None</td>\n    </tr>\n    <tr>\n      <th>4</th>\n      <td>P000031</td>\n      <td>Africa East</td>\n      <td>Republic of Angola</td>\n      <td>Dropped</td>\n      <td>Manpower Training Project</td>\n      <td>THE PROJECT WILL (A) PROMOTE SKILLS DEVELOPMEN...</td>\n      <td>None</td>\n      <td>None</td>\n      <td>http://projects.worldbank.org/P000031/manpower...</td>\n      <td>None</td>\n      <td>...</td>\n      <td>None</td>\n      <td>Specific Investment Loan</td>\n      <td>C</td>\n      <td>None</td>\n      <td>Social Protection</td>\n      <td>Other Education</td>\n      <td>None</td>\n      <td>Other social protection and risk management</td>\n      <td>None</td>\n      <td>None</td>\n    </tr>\n  </tbody>\n</table>\n<p>5 rows × 27 columns</p>\n</div>"
     },
     "metadata": {},
     "execution_count": 28
    }
   ],
   "source": [
    "pd.read_sql(\"\"\"SELECT * FROM projects LIMIT 5;\"\"\", con=cnx)"
   ]
  },
  {
   "cell_type": "code",
   "execution_count": 29,
   "metadata": {},
   "outputs": [
    {
     "output_type": "execute_result",
     "data": {
      "text/plain": [
       "   FiscalYear Region BorrowerCountry BorrowerCountryCode ProjectID  \\\n",
       "0        2000    AFE          Angola                  AO   P000044   \n",
       "1        2000    AFE          Angola                  AO   P000044   \n",
       "2        2000    AFE      Madagascar                  MG   P052186   \n",
       "3        2000    AFE      Madagascar                  MG   P052186   \n",
       "4        2000    AFE    South Africa                  ZA   P035923   \n",
       "\n",
       "                         ProjectName          ProcurementType  \\\n",
       "0               FINANCIAL INSTITUTIO  Implementation Activity   \n",
       "1               FINANCIAL INSTITUTIO  Implementation Activity   \n",
       "2                    MG-Microfinance  Implementation Activity   \n",
       "3                    MG-Microfinance  Implementation Activity   \n",
       "4  ZA-GEF Cape Penninsula SIL (FY98)  Implementation Activity   \n",
       "\n",
       "   ProcurementCategory                 ProcurementMethod Productline  ...  \\\n",
       "0  CONSULTANT SERVICES  Quality And Cost-Based Selection    IBRD/IDA  ...   \n",
       "1  CONSULTANT SERVICES  Quality And Cost-Based Selection    IBRD/IDA  ...   \n",
       "2  CONSULTANT SERVICES  Quality And Cost-Based Selection    IBRD/IDA  ...   \n",
       "3  CONSULTANT SERVICES  Quality And Cost-Based Selection    IBRD/IDA  ...   \n",
       "4  CONSULTANT SERVICES  Quality And Cost-Based Selection         GEF  ...   \n",
       "\n",
       "  WBContractNumber                                ContractDescription  \\\n",
       "0          1207736               OIL SECTOR STUDY - CONTRCT WITH KPMG   \n",
       "1          1207736               OIL SECTOR STUDY - CONTRCT WITH KPMG   \n",
       "2          1116602  APPUI AU DEVELOPPEMENT DU RESEAU OTIV (TOAMASINA)   \n",
       "3          1116602  APPUI AU DEVELOPPEMENT DU RESEAU OTIV (TOAMASINA)   \n",
       "4          1116066  INSTITUTIONAL, LEGAL, POLICY, FINANCIAL, SOCIA...   \n",
       "\n",
       "  ContractSigningDate                        Supplier SupplierCountry  \\\n",
       "0          2000-11-20              KPMG INTERNATIONAL  United Kingdom   \n",
       "1          2000-11-20              KPMG INTERNATIONAL  United Kingdom   \n",
       "2          1999-09-17  DEVELOPMENT INTERNA.DESJARDINS          Canada   \n",
       "3          1999-09-17  DEVELOPMENT INTERNA.DESJARDINS          Canada   \n",
       "4          1999-07-06                            CSIR    South Africa   \n",
       "\n",
       "  SupplierCountryCode SupplierState TotalContractAmount(USD)  \\\n",
       "0                  GB  Not assigned                   800000   \n",
       "1                  GB  Not assigned                   800000   \n",
       "2                  CA  Not assigned                  1964922   \n",
       "3                  CA  Not assigned                  1964922   \n",
       "4                  ZA  Not assigned                   178602   \n",
       "\n",
       "   BorrowerContractReferenceNumber UNSupplierFlag  \n",
       "0                KPMG - 11/20/2000              0  \n",
       "1                KPMG - 11/20/2000              0  \n",
       "2            1/01/10/99/AGEPMF/DID              0  \n",
       "3            1/01/10/99/AGEPMF/DID              0  \n",
       "4                         WWF-SA-3              0  \n",
       "\n",
       "[5 rows x 21 columns]"
      ],
      "text/html": "<div>\n<style scoped>\n    .dataframe tbody tr th:only-of-type {\n        vertical-align: middle;\n    }\n\n    .dataframe tbody tr th {\n        vertical-align: top;\n    }\n\n    .dataframe thead th {\n        text-align: right;\n    }\n</style>\n<table border=\"1\" class=\"dataframe\">\n  <thead>\n    <tr style=\"text-align: right;\">\n      <th></th>\n      <th>FiscalYear</th>\n      <th>Region</th>\n      <th>BorrowerCountry</th>\n      <th>BorrowerCountryCode</th>\n      <th>ProjectID</th>\n      <th>ProjectName</th>\n      <th>ProcurementType</th>\n      <th>ProcurementCategory</th>\n      <th>ProcurementMethod</th>\n      <th>Productline</th>\n      <th>...</th>\n      <th>WBContractNumber</th>\n      <th>ContractDescription</th>\n      <th>ContractSigningDate</th>\n      <th>Supplier</th>\n      <th>SupplierCountry</th>\n      <th>SupplierCountryCode</th>\n      <th>SupplierState</th>\n      <th>TotalContractAmount(USD)</th>\n      <th>BorrowerContractReferenceNumber</th>\n      <th>UNSupplierFlag</th>\n    </tr>\n  </thead>\n  <tbody>\n    <tr>\n      <th>0</th>\n      <td>2000</td>\n      <td>AFE</td>\n      <td>Angola</td>\n      <td>AO</td>\n      <td>P000044</td>\n      <td>FINANCIAL INSTITUTIO</td>\n      <td>Implementation Activity</td>\n      <td>CONSULTANT SERVICES</td>\n      <td>Quality And Cost-Based Selection</td>\n      <td>IBRD/IDA</td>\n      <td>...</td>\n      <td>1207736</td>\n      <td>OIL SECTOR STUDY - CONTRCT WITH KPMG</td>\n      <td>2000-11-20</td>\n      <td>KPMG INTERNATIONAL</td>\n      <td>United Kingdom</td>\n      <td>GB</td>\n      <td>Not assigned</td>\n      <td>800000</td>\n      <td>KPMG - 11/20/2000</td>\n      <td>0</td>\n    </tr>\n    <tr>\n      <th>1</th>\n      <td>2000</td>\n      <td>AFE</td>\n      <td>Angola</td>\n      <td>AO</td>\n      <td>P000044</td>\n      <td>FINANCIAL INSTITUTIO</td>\n      <td>Implementation Activity</td>\n      <td>CONSULTANT SERVICES</td>\n      <td>Quality And Cost-Based Selection</td>\n      <td>IBRD/IDA</td>\n      <td>...</td>\n      <td>1207736</td>\n      <td>OIL SECTOR STUDY - CONTRCT WITH KPMG</td>\n      <td>2000-11-20</td>\n      <td>KPMG INTERNATIONAL</td>\n      <td>United Kingdom</td>\n      <td>GB</td>\n      <td>Not assigned</td>\n      <td>800000</td>\n      <td>KPMG - 11/20/2000</td>\n      <td>0</td>\n    </tr>\n    <tr>\n      <th>2</th>\n      <td>2000</td>\n      <td>AFE</td>\n      <td>Madagascar</td>\n      <td>MG</td>\n      <td>P052186</td>\n      <td>MG-Microfinance</td>\n      <td>Implementation Activity</td>\n      <td>CONSULTANT SERVICES</td>\n      <td>Quality And Cost-Based Selection</td>\n      <td>IBRD/IDA</td>\n      <td>...</td>\n      <td>1116602</td>\n      <td>APPUI AU DEVELOPPEMENT DU RESEAU OTIV (TOAMASINA)</td>\n      <td>1999-09-17</td>\n      <td>DEVELOPMENT INTERNA.DESJARDINS</td>\n      <td>Canada</td>\n      <td>CA</td>\n      <td>Not assigned</td>\n      <td>1964922</td>\n      <td>1/01/10/99/AGEPMF/DID</td>\n      <td>0</td>\n    </tr>\n    <tr>\n      <th>3</th>\n      <td>2000</td>\n      <td>AFE</td>\n      <td>Madagascar</td>\n      <td>MG</td>\n      <td>P052186</td>\n      <td>MG-Microfinance</td>\n      <td>Implementation Activity</td>\n      <td>CONSULTANT SERVICES</td>\n      <td>Quality And Cost-Based Selection</td>\n      <td>IBRD/IDA</td>\n      <td>...</td>\n      <td>1116602</td>\n      <td>APPUI AU DEVELOPPEMENT DU RESEAU OTIV (TOAMASINA)</td>\n      <td>1999-09-17</td>\n      <td>DEVELOPMENT INTERNA.DESJARDINS</td>\n      <td>Canada</td>\n      <td>CA</td>\n      <td>Not assigned</td>\n      <td>1964922</td>\n      <td>1/01/10/99/AGEPMF/DID</td>\n      <td>0</td>\n    </tr>\n    <tr>\n      <th>4</th>\n      <td>2000</td>\n      <td>AFE</td>\n      <td>South Africa</td>\n      <td>ZA</td>\n      <td>P035923</td>\n      <td>ZA-GEF Cape Penninsula SIL (FY98)</td>\n      <td>Implementation Activity</td>\n      <td>CONSULTANT SERVICES</td>\n      <td>Quality And Cost-Based Selection</td>\n      <td>GEF</td>\n      <td>...</td>\n      <td>1116066</td>\n      <td>INSTITUTIONAL, LEGAL, POLICY, FINANCIAL, SOCIA...</td>\n      <td>1999-07-06</td>\n      <td>CSIR</td>\n      <td>South Africa</td>\n      <td>ZA</td>\n      <td>Not assigned</td>\n      <td>178602</td>\n      <td>WWF-SA-3</td>\n      <td>0</td>\n    </tr>\n  </tbody>\n</table>\n<p>5 rows × 21 columns</p>\n</div>"
     },
     "metadata": {},
     "execution_count": 29
    }
   ],
   "source": [
    "# IT WORKED!!!!!\n",
    "pd.read_sql(\"\"\"SELECT * FROM contracts LIMIT 5;\"\"\", con=cnx)"
   ]
  },
  {
   "cell_type": "code",
   "execution_count": null,
   "metadata": {},
   "outputs": [],
   "source": []
  }
 ],
 "metadata": {
  "kernelspec": {
   "name": "python381jvsc74a57bd07ec765d6bae8f93ced932d98bf42272bf3342805ef2d1e68b26597eeae106109",
   "display_name": "Python 3.8.1 64-bit (conda)"
  },
  "language_info": {
   "codemirror_mode": {
    "name": "ipython",
    "version": 3
   },
   "file_extension": ".py",
   "mimetype": "text/x-python",
   "name": "python",
   "nbconvert_exporter": "python",
   "pygments_lexer": "ipython3",
   "version": "3.8.1"
  },
  "metadata": {
   "interpreter": {
    "hash": "7812ea015bdcee6f23a998adcdd2ef97c151c0c241b7b7070987d9313e41299d"
   }
  }
 },
 "nbformat": 4,
 "nbformat_minor": 5
}