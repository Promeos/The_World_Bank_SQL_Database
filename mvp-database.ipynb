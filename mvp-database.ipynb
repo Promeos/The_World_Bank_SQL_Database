{
 "cells": [
  {
   "cell_type": "markdown",
   "metadata": {},
   "source": [
    "# Stock Market Database"
   ]
  },
  {
   "cell_type": "code",
   "execution_count": 1,
   "metadata": {},
   "outputs": [],
   "source": [
    "import numpy as np\n",
    "import pandas as pd\n",
    "import json\n",
    "from datetime import datetime\n",
    "import requests\n",
    "import mysql.connector\n",
    "\n",
    "import matplotlib.pyplot as plt\n",
    "import seaborn as sns\n",
    "\n",
    "import os\n",
    "import warnings\n",
    "\n",
    "import src\n",
    "from env import key\n",
    "warnings.filterwarnings(\"ignore\")"
   ]
  },
  {
   "cell_type": "markdown",
   "metadata": {},
   "source": [
    "# Acquire"
   ]
  },
  {
   "cell_type": "code",
   "execution_count": 2,
   "metadata": {},
   "outputs": [],
   "source": [
    "# Create a global variable to hold the apikey path\n",
    "API_KEY_PATH = '&apikey={key}'"
   ]
  },
  {
   "cell_type": "code",
   "execution_count": 3,
   "metadata": {},
   "outputs": [],
   "source": [
    "def base_url():\n",
    "    '''\n",
    "    Base url to acquire financial data.\n",
    "    \n",
    "    Parameters\n",
    "    ----------\n",
    "    None\n",
    "    \n",
    "    Returns\n",
    "    -------\n",
    "    url : str\n",
    "        URL to acquire data using alphavantage REST API.\n",
    "    '''\n",
    "    url = 'https://www.alphavantage.co/query?'\n",
    "    return url"
   ]
  },
  {
   "cell_type": "code",
   "execution_count": 4,
   "metadata": {},
   "outputs": [
    {
     "output_type": "execute_result",
     "data": {
      "text/plain": [
       "'https://www.alphavantage.co/query?'"
      ]
     },
     "metadata": {},
     "execution_count": 4
    }
   ],
   "source": [
    "base_url()"
   ]
  },
  {
   "cell_type": "code",
   "execution_count": 5,
   "metadata": {},
   "outputs": [],
   "source": [
    "def response_endpoint(data='INCOME_STATEMENT', ticker='IBM'):\n",
    "    '''\n",
    "    Endpoint to a acquire data using alphavantage REST API.\n",
    "    \n",
    "    Returns \n",
    "    Parameters\n",
    "    ----------\n",
    "    data : str, default 'INCOME_STATEMENT'\n",
    "\n",
    "    ticker : str, default 'IBM'\n",
    "        \n",
    "    Returns\n",
    "    -------\n",
    "    get_request : requests.models.Response object\n",
    "        Response object with data from a specified endpoint.\n",
    "    '''\n",
    "    global API_KEY_PATH\n",
    "\n",
    "    function = f'function={data}'\n",
    "    symbol = f'&symbol={ticker}'\n",
    "    file_type = '&datatype=csv'\n",
    "\n",
    "    endpoint = function + symbol + API_KEY_PATH + file_type\n",
    "\n",
    "    get_request = requests.get(base_url() + endpoint)\n",
    "    return get_request\n"
   ]
  },
  {
   "cell_type": "code",
   "execution_count": 6,
   "metadata": {},
   "outputs": [
    {
     "output_type": "execute_result",
     "data": {
      "text/plain": [
       "200"
      ]
     },
     "metadata": {},
     "execution_count": 6
    }
   ],
   "source": [
    "data = response_endpoint()\n",
    "data.status_code"
   ]
  },
  {
   "cell_type": "code",
   "execution_count": 7,
   "metadata": {},
   "outputs": [
    {
     "output_type": "execute_result",
     "data": {
      "text/plain": [
       "dict_keys(['symbol', 'annualReports', 'quarterlyReports'])"
      ]
     },
     "metadata": {},
     "execution_count": 7
    }
   ],
   "source": [
    "report = data.json()\n",
    "report.keys()"
   ]
  },
  {
   "cell_type": "code",
   "execution_count": 8,
   "metadata": {},
   "outputs": [
    {
     "output_type": "execute_result",
     "data": {
      "text/plain": [
       "'IBM'"
      ]
     },
     "metadata": {},
     "execution_count": 8
    }
   ],
   "source": [
    "report.get('symbol')"
   ]
  },
  {
   "cell_type": "code",
   "execution_count": 9,
   "metadata": {},
   "outputs": [],
   "source": [
    "quarterly_data = report.get('quarterlyReports')\n",
    "\n",
    "df_quarterly = pd.DataFrame(quarterly_data)\n",
    "\n",
    "df_quarterly = df_quarterly.sort_values('fiscalDateEnding').reset_index(drop=True)"
   ]
  },
  {
   "cell_type": "code",
   "execution_count": 10,
   "metadata": {},
   "outputs": [
    {
     "output_type": "execute_result",
     "data": {
      "text/plain": [
       "  fiscalDateEnding reportedCurrency  grossProfit totalRevenue costOfRevenue  \\\n",
       "0       2016-06-30              USD   9702000000  20238000000   10536000000   \n",
       "1       2016-09-30              USD   9013000000  19226000000   10213000000   \n",
       "2       2016-12-31              USD  11115000000  21770000000   10655000000   \n",
       "3       2017-03-31              USD   7944000000  18155000000   10211000000   \n",
       "4       2017-06-30              USD   8968000000  19289000000   10321000000   \n",
       "\n",
       "  costofGoodsAndServicesSold operatingIncome sellingGeneralAndAdministrative  \\\n",
       "0                10536000000      2490000000                      5349000000   \n",
       "1                10213000000      2515000000                      4732000000   \n",
       "2                10877000000      4755000000                      4776000000   \n",
       "3                10383000000      1043000000                      5027000000   \n",
       "4                10495000000      2111000000                      5033000000   \n",
       "\n",
       "  researchAndDevelopment operatingExpenses  ... depreciation  \\\n",
       "0             1465000000        7212000000  ...    705000000   \n",
       "1             1397000000        6498000000  ...    724000000   \n",
       "2             1406000000        6360000000  ...    731000000   \n",
       "3             1484000000        6901000000  ...    709000000   \n",
       "4             1436000000        6857000000  ...    730000000   \n",
       "\n",
       "  depreciationAndAmortization incomeBeforeTax incomeTaxExpense  \\\n",
       "0                   398000000      3048000000        544000000   \n",
       "1                   403000000      3262000000        409000000   \n",
       "2                   396000000      4981000000        480000000   \n",
       "3                   390000000      1421000000       -329000000   \n",
       "4                   388000000      2442000000        111000000   \n",
       "\n",
       "  interestAndDebtExpense netIncomeFromContinuingOperations  \\\n",
       "0              167000000                        2505000000   \n",
       "1              158000000                        2854000000   \n",
       "2              157000000                        4506000000   \n",
       "3              135000000                        1753000000   \n",
       "4              147000000                        2332000000   \n",
       "\n",
       "  comprehensiveIncomeNetOfTax        ebit      ebitda   netIncome  \n",
       "0                  2899000000  2490000000  2888000000  2504000000  \n",
       "1                  3293000000  2515000000  2918000000  2853000000  \n",
       "2                  3268000000  4755000000  5151000000  4501000000  \n",
       "3                  2438000000  1043000000  1433000000  1750000000  \n",
       "4                  2852000000  2111000000  2499000000  2331000000  \n",
       "\n",
       "[5 rows x 26 columns]"
      ],
      "text/html": "<div>\n<style scoped>\n    .dataframe tbody tr th:only-of-type {\n        vertical-align: middle;\n    }\n\n    .dataframe tbody tr th {\n        vertical-align: top;\n    }\n\n    .dataframe thead th {\n        text-align: right;\n    }\n</style>\n<table border=\"1\" class=\"dataframe\">\n  <thead>\n    <tr style=\"text-align: right;\">\n      <th></th>\n      <th>fiscalDateEnding</th>\n      <th>reportedCurrency</th>\n      <th>grossProfit</th>\n      <th>totalRevenue</th>\n      <th>costOfRevenue</th>\n      <th>costofGoodsAndServicesSold</th>\n      <th>operatingIncome</th>\n      <th>sellingGeneralAndAdministrative</th>\n      <th>researchAndDevelopment</th>\n      <th>operatingExpenses</th>\n      <th>...</th>\n      <th>depreciation</th>\n      <th>depreciationAndAmortization</th>\n      <th>incomeBeforeTax</th>\n      <th>incomeTaxExpense</th>\n      <th>interestAndDebtExpense</th>\n      <th>netIncomeFromContinuingOperations</th>\n      <th>comprehensiveIncomeNetOfTax</th>\n      <th>ebit</th>\n      <th>ebitda</th>\n      <th>netIncome</th>\n    </tr>\n  </thead>\n  <tbody>\n    <tr>\n      <th>0</th>\n      <td>2016-06-30</td>\n      <td>USD</td>\n      <td>9702000000</td>\n      <td>20238000000</td>\n      <td>10536000000</td>\n      <td>10536000000</td>\n      <td>2490000000</td>\n      <td>5349000000</td>\n      <td>1465000000</td>\n      <td>7212000000</td>\n      <td>...</td>\n      <td>705000000</td>\n      <td>398000000</td>\n      <td>3048000000</td>\n      <td>544000000</td>\n      <td>167000000</td>\n      <td>2505000000</td>\n      <td>2899000000</td>\n      <td>2490000000</td>\n      <td>2888000000</td>\n      <td>2504000000</td>\n    </tr>\n    <tr>\n      <th>1</th>\n      <td>2016-09-30</td>\n      <td>USD</td>\n      <td>9013000000</td>\n      <td>19226000000</td>\n      <td>10213000000</td>\n      <td>10213000000</td>\n      <td>2515000000</td>\n      <td>4732000000</td>\n      <td>1397000000</td>\n      <td>6498000000</td>\n      <td>...</td>\n      <td>724000000</td>\n      <td>403000000</td>\n      <td>3262000000</td>\n      <td>409000000</td>\n      <td>158000000</td>\n      <td>2854000000</td>\n      <td>3293000000</td>\n      <td>2515000000</td>\n      <td>2918000000</td>\n      <td>2853000000</td>\n    </tr>\n    <tr>\n      <th>2</th>\n      <td>2016-12-31</td>\n      <td>USD</td>\n      <td>11115000000</td>\n      <td>21770000000</td>\n      <td>10655000000</td>\n      <td>10877000000</td>\n      <td>4755000000</td>\n      <td>4776000000</td>\n      <td>1406000000</td>\n      <td>6360000000</td>\n      <td>...</td>\n      <td>731000000</td>\n      <td>396000000</td>\n      <td>4981000000</td>\n      <td>480000000</td>\n      <td>157000000</td>\n      <td>4506000000</td>\n      <td>3268000000</td>\n      <td>4755000000</td>\n      <td>5151000000</td>\n      <td>4501000000</td>\n    </tr>\n    <tr>\n      <th>3</th>\n      <td>2017-03-31</td>\n      <td>USD</td>\n      <td>7944000000</td>\n      <td>18155000000</td>\n      <td>10211000000</td>\n      <td>10383000000</td>\n      <td>1043000000</td>\n      <td>5027000000</td>\n      <td>1484000000</td>\n      <td>6901000000</td>\n      <td>...</td>\n      <td>709000000</td>\n      <td>390000000</td>\n      <td>1421000000</td>\n      <td>-329000000</td>\n      <td>135000000</td>\n      <td>1753000000</td>\n      <td>2438000000</td>\n      <td>1043000000</td>\n      <td>1433000000</td>\n      <td>1750000000</td>\n    </tr>\n    <tr>\n      <th>4</th>\n      <td>2017-06-30</td>\n      <td>USD</td>\n      <td>8968000000</td>\n      <td>19289000000</td>\n      <td>10321000000</td>\n      <td>10495000000</td>\n      <td>2111000000</td>\n      <td>5033000000</td>\n      <td>1436000000</td>\n      <td>6857000000</td>\n      <td>...</td>\n      <td>730000000</td>\n      <td>388000000</td>\n      <td>2442000000</td>\n      <td>111000000</td>\n      <td>147000000</td>\n      <td>2332000000</td>\n      <td>2852000000</td>\n      <td>2111000000</td>\n      <td>2499000000</td>\n      <td>2331000000</td>\n    </tr>\n  </tbody>\n</table>\n<p>5 rows × 26 columns</p>\n</div>"
     },
     "metadata": {},
     "execution_count": 10
    }
   ],
   "source": [
    "df_quarterly.head()"
   ]
  },
  {
   "cell_type": "code",
   "execution_count": 11,
   "metadata": {},
   "outputs": [
    {
     "output_type": "stream",
     "name": "stdout",
     "text": [
      "<class 'pandas.core.frame.DataFrame'>\nRangeIndex: 20 entries, 0 to 19\nData columns (total 26 columns):\n #   Column                             Non-Null Count  Dtype \n---  ------                             --------------  ----- \n 0   fiscalDateEnding                   20 non-null     object\n 1   reportedCurrency                   20 non-null     object\n 2   grossProfit                        20 non-null     object\n 3   totalRevenue                       20 non-null     object\n 4   costOfRevenue                      20 non-null     object\n 5   costofGoodsAndServicesSold         20 non-null     object\n 6   operatingIncome                    20 non-null     object\n 7   sellingGeneralAndAdministrative    20 non-null     object\n 8   researchAndDevelopment             20 non-null     object\n 9   operatingExpenses                  20 non-null     object\n 10  investmentIncomeNet                20 non-null     object\n 11  netInterestIncome                  20 non-null     object\n 12  interestIncome                     20 non-null     object\n 13  interestExpense                    20 non-null     object\n 14  nonInterestIncome                  20 non-null     object\n 15  otherNonOperatingIncome            20 non-null     object\n 16  depreciation                       20 non-null     object\n 17  depreciationAndAmortization        20 non-null     object\n 18  incomeBeforeTax                    20 non-null     object\n 19  incomeTaxExpense                   20 non-null     object\n 20  interestAndDebtExpense             20 non-null     object\n 21  netIncomeFromContinuingOperations  20 non-null     object\n 22  comprehensiveIncomeNetOfTax        20 non-null     object\n 23  ebit                               20 non-null     object\n 24  ebitda                             20 non-null     object\n 25  netIncome                          20 non-null     object\ndtypes: object(26)\nmemory usage: 4.2+ KB\n"
     ]
    }
   ],
   "source": [
    "df_quarterly.info()"
   ]
  },
  {
   "cell_type": "code",
   "execution_count": 12,
   "metadata": {},
   "outputs": [],
   "source": [
    "df_quarterly.insert(0, 'ticker', report.get('symbol'))"
   ]
  },
  {
   "cell_type": "markdown",
   "metadata": {},
   "source": [
    "## Acquire Function"
   ]
  },
  {
   "cell_type": "code",
   "execution_count": 13,
   "metadata": {},
   "outputs": [
    {
     "output_type": "execute_result",
     "data": {
      "text/plain": [
       "  ticker fiscalDateEnding    grossProfit   totalRevenue  costOfRevenue  \\\n",
       "0    IBM       2016-06-30   9702000000.0  20238000000.0  10536000000.0   \n",
       "1    IBM       2016-09-30   9013000000.0  19226000000.0  10213000000.0   \n",
       "2    IBM       2016-12-31  11115000000.0  21770000000.0  10655000000.0   \n",
       "3    IBM       2017-03-31   7944000000.0  18155000000.0  10211000000.0   \n",
       "4    IBM       2017-06-30   8968000000.0  19289000000.0  10321000000.0   \n",
       "\n",
       "   costofGoodsAndServicesSold  operatingIncome  \\\n",
       "0               10536000000.0     2490000000.0   \n",
       "1               10213000000.0     2515000000.0   \n",
       "2               10877000000.0     4755000000.0   \n",
       "3               10383000000.0     1043000000.0   \n",
       "4               10495000000.0     2111000000.0   \n",
       "\n",
       "   sellingGeneralAndAdministrative  researchAndDevelopment  operatingExpenses  \\\n",
       "0                     5349000000.0              1465000000       7212000000.0   \n",
       "1                     4732000000.0              1397000000       6498000000.0   \n",
       "2                     4776000000.0              1406000000       6360000000.0   \n",
       "3                     5027000000.0              1484000000       6901000000.0   \n",
       "4                     5033000000.0              1436000000       6857000000.0   \n",
       "\n",
       "   ...  depreciation  depreciationAndAmortization  incomeBeforeTax  \\\n",
       "0  ...     705000000                    398000000     3048000000.0   \n",
       "1  ...     724000000                    403000000     3262000000.0   \n",
       "2  ...     731000000                    396000000     4981000000.0   \n",
       "3  ...     709000000                    390000000     1421000000.0   \n",
       "4  ...     730000000                    388000000     2442000000.0   \n",
       "\n",
       "   incomeTaxExpense  interestAndDebtExpense  \\\n",
       "0       544000000.0               167000000   \n",
       "1       409000000.0               158000000   \n",
       "2       480000000.0               157000000   \n",
       "3      -329000000.0               135000000   \n",
       "4       111000000.0               147000000   \n",
       "\n",
       "   netIncomeFromContinuingOperations  comprehensiveIncomeNetOfTax  \\\n",
       "0                       2505000000.0                 2899000000.0   \n",
       "1                       2854000000.0                 3293000000.0   \n",
       "2                       4506000000.0                 3268000000.0   \n",
       "3                       1753000000.0                 2438000000.0   \n",
       "4                       2332000000.0                 2852000000.0   \n",
       "\n",
       "           ebit        ebitda     netIncome  \n",
       "0  2490000000.0  2888000000.0  2504000000.0  \n",
       "1  2515000000.0  2918000000.0  2853000000.0  \n",
       "2  4755000000.0  5151000000.0  4501000000.0  \n",
       "3  1043000000.0  1433000000.0  1750000000.0  \n",
       "4  2111000000.0  2499000000.0  2331000000.0  \n",
       "\n",
       "[5 rows x 26 columns]"
      ],
      "text/html": "<div>\n<style scoped>\n    .dataframe tbody tr th:only-of-type {\n        vertical-align: middle;\n    }\n\n    .dataframe tbody tr th {\n        vertical-align: top;\n    }\n\n    .dataframe thead th {\n        text-align: right;\n    }\n</style>\n<table border=\"1\" class=\"dataframe\">\n  <thead>\n    <tr style=\"text-align: right;\">\n      <th></th>\n      <th>ticker</th>\n      <th>fiscalDateEnding</th>\n      <th>grossProfit</th>\n      <th>totalRevenue</th>\n      <th>costOfRevenue</th>\n      <th>costofGoodsAndServicesSold</th>\n      <th>operatingIncome</th>\n      <th>sellingGeneralAndAdministrative</th>\n      <th>researchAndDevelopment</th>\n      <th>operatingExpenses</th>\n      <th>...</th>\n      <th>depreciation</th>\n      <th>depreciationAndAmortization</th>\n      <th>incomeBeforeTax</th>\n      <th>incomeTaxExpense</th>\n      <th>interestAndDebtExpense</th>\n      <th>netIncomeFromContinuingOperations</th>\n      <th>comprehensiveIncomeNetOfTax</th>\n      <th>ebit</th>\n      <th>ebitda</th>\n      <th>netIncome</th>\n    </tr>\n  </thead>\n  <tbody>\n    <tr>\n      <th>0</th>\n      <td>IBM</td>\n      <td>2016-06-30</td>\n      <td>9702000000.0</td>\n      <td>20238000000.0</td>\n      <td>10536000000.0</td>\n      <td>10536000000.0</td>\n      <td>2490000000.0</td>\n      <td>5349000000.0</td>\n      <td>1465000000</td>\n      <td>7212000000.0</td>\n      <td>...</td>\n      <td>705000000</td>\n      <td>398000000</td>\n      <td>3048000000.0</td>\n      <td>544000000.0</td>\n      <td>167000000</td>\n      <td>2505000000.0</td>\n      <td>2899000000.0</td>\n      <td>2490000000.0</td>\n      <td>2888000000.0</td>\n      <td>2504000000.0</td>\n    </tr>\n    <tr>\n      <th>1</th>\n      <td>IBM</td>\n      <td>2016-09-30</td>\n      <td>9013000000.0</td>\n      <td>19226000000.0</td>\n      <td>10213000000.0</td>\n      <td>10213000000.0</td>\n      <td>2515000000.0</td>\n      <td>4732000000.0</td>\n      <td>1397000000</td>\n      <td>6498000000.0</td>\n      <td>...</td>\n      <td>724000000</td>\n      <td>403000000</td>\n      <td>3262000000.0</td>\n      <td>409000000.0</td>\n      <td>158000000</td>\n      <td>2854000000.0</td>\n      <td>3293000000.0</td>\n      <td>2515000000.0</td>\n      <td>2918000000.0</td>\n      <td>2853000000.0</td>\n    </tr>\n    <tr>\n      <th>2</th>\n      <td>IBM</td>\n      <td>2016-12-31</td>\n      <td>11115000000.0</td>\n      <td>21770000000.0</td>\n      <td>10655000000.0</td>\n      <td>10877000000.0</td>\n      <td>4755000000.0</td>\n      <td>4776000000.0</td>\n      <td>1406000000</td>\n      <td>6360000000.0</td>\n      <td>...</td>\n      <td>731000000</td>\n      <td>396000000</td>\n      <td>4981000000.0</td>\n      <td>480000000.0</td>\n      <td>157000000</td>\n      <td>4506000000.0</td>\n      <td>3268000000.0</td>\n      <td>4755000000.0</td>\n      <td>5151000000.0</td>\n      <td>4501000000.0</td>\n    </tr>\n    <tr>\n      <th>3</th>\n      <td>IBM</td>\n      <td>2017-03-31</td>\n      <td>7944000000.0</td>\n      <td>18155000000.0</td>\n      <td>10211000000.0</td>\n      <td>10383000000.0</td>\n      <td>1043000000.0</td>\n      <td>5027000000.0</td>\n      <td>1484000000</td>\n      <td>6901000000.0</td>\n      <td>...</td>\n      <td>709000000</td>\n      <td>390000000</td>\n      <td>1421000000.0</td>\n      <td>-329000000.0</td>\n      <td>135000000</td>\n      <td>1753000000.0</td>\n      <td>2438000000.0</td>\n      <td>1043000000.0</td>\n      <td>1433000000.0</td>\n      <td>1750000000.0</td>\n    </tr>\n    <tr>\n      <th>4</th>\n      <td>IBM</td>\n      <td>2017-06-30</td>\n      <td>8968000000.0</td>\n      <td>19289000000.0</td>\n      <td>10321000000.0</td>\n      <td>10495000000.0</td>\n      <td>2111000000.0</td>\n      <td>5033000000.0</td>\n      <td>1436000000</td>\n      <td>6857000000.0</td>\n      <td>...</td>\n      <td>730000000</td>\n      <td>388000000</td>\n      <td>2442000000.0</td>\n      <td>111000000.0</td>\n      <td>147000000</td>\n      <td>2332000000.0</td>\n      <td>2852000000.0</td>\n      <td>2111000000.0</td>\n      <td>2499000000.0</td>\n      <td>2331000000.0</td>\n    </tr>\n  </tbody>\n</table>\n<p>5 rows × 26 columns</p>\n</div>"
     },
     "metadata": {},
     "execution_count": 13
    }
   ],
   "source": [
    "df = src.get_financial_data()\n",
    "df.head()"
   ]
  },
  {
   "cell_type": "code",
   "execution_count": 14,
   "metadata": {},
   "outputs": [
    {
     "output_type": "stream",
     "name": "stdout",
     "text": [
      "<class 'pandas.core.frame.DataFrame'>\nRangeIndex: 20 entries, 0 to 19\nData columns (total 26 columns):\n #   Column                             Non-Null Count  Dtype  \n---  ------                             --------------  -----  \n 0   ticker                             20 non-null     string \n 1   fiscalDateEnding                   20 non-null     string \n 2   grossProfit                        20 non-null     Float64\n 3   totalRevenue                       20 non-null     Float64\n 4   costOfRevenue                      20 non-null     Float64\n 5   costofGoodsAndServicesSold         20 non-null     Float64\n 6   operatingIncome                    20 non-null     Float64\n 7   sellingGeneralAndAdministrative    20 non-null     Float64\n 8   researchAndDevelopment             20 non-null     Int64  \n 9   operatingExpenses                  20 non-null     Float64\n 10  investmentIncomeNet                20 non-null     Int64  \n 11  netInterestIncome                  20 non-null     Int64  \n 12  interestIncome                     20 non-null     Int64  \n 13  interestExpense                    20 non-null     Int64  \n 14  nonInterestIncome                  20 non-null     Int64  \n 15  otherNonOperatingIncome            20 non-null     Int64  \n 16  depreciation                       20 non-null     Int64  \n 17  depreciationAndAmortization        20 non-null     Int64  \n 18  incomeBeforeTax                    20 non-null     Float64\n 19  incomeTaxExpense                   20 non-null     Float64\n 20  interestAndDebtExpense             20 non-null     Int64  \n 21  netIncomeFromContinuingOperations  20 non-null     Float64\n 22  comprehensiveIncomeNetOfTax        20 non-null     Float64\n 23  ebit                               20 non-null     Float64\n 24  ebitda                             20 non-null     Float64\n 25  netIncome                          20 non-null     Float64\ndtypes: Float64(14), Int64(10), string(2)\nmemory usage: 4.7 KB\n"
     ]
    }
   ],
   "source": [
    "df.info()"
   ]
  },
  {
   "cell_type": "code",
   "execution_count": 15,
   "metadata": {},
   "outputs": [],
   "source": [
    "df.fillna(0, inplace=True)"
   ]
  },
  {
   "cell_type": "markdown",
   "metadata": {},
   "source": [
    "# Prepare"
   ]
  },
  {
   "cell_type": "code",
   "execution_count": 16,
   "metadata": {},
   "outputs": [],
   "source": [
    "df = df.replace(r'None', '0', regex=True)\n",
    "\n",
    "date_col = df.columns[1]\n",
    "numeric_cols = df.columns[2:]\n",
    "\n",
    "df[date_col] = pd.to_datetime(df.loc[:,date_col])\n",
    "df[numeric_cols] = df.loc[:, numeric_cols].apply(pd.to_numeric,\n",
    "                                                 downcast='float',\n",
    "                                                 errors='coerce')"
   ]
  },
  {
   "cell_type": "code",
   "execution_count": 17,
   "metadata": {},
   "outputs": [
    {
     "output_type": "stream",
     "name": "stdout",
     "text": [
      "<class 'pandas.core.frame.DataFrame'>\nRangeIndex: 20 entries, 0 to 19\nData columns (total 26 columns):\n #   Column                             Non-Null Count  Dtype         \n---  ------                             --------------  -----         \n 0   ticker                             20 non-null     string        \n 1   fiscalDateEnding                   20 non-null     datetime64[ns]\n 2   grossProfit                        20 non-null     float32       \n 3   totalRevenue                       20 non-null     float32       \n 4   costOfRevenue                      20 non-null     float32       \n 5   costofGoodsAndServicesSold         20 non-null     float32       \n 6   operatingIncome                    20 non-null     float32       \n 7   sellingGeneralAndAdministrative    20 non-null     float32       \n 8   researchAndDevelopment             20 non-null     float32       \n 9   operatingExpenses                  20 non-null     float32       \n 10  investmentIncomeNet                20 non-null     float32       \n 11  netInterestIncome                  20 non-null     float32       \n 12  interestIncome                     20 non-null     float32       \n 13  interestExpense                    20 non-null     float32       \n 14  nonInterestIncome                  20 non-null     float32       \n 15  otherNonOperatingIncome            20 non-null     float32       \n 16  depreciation                       20 non-null     float32       \n 17  depreciationAndAmortization        20 non-null     float32       \n 18  incomeBeforeTax                    20 non-null     float32       \n 19  incomeTaxExpense                   20 non-null     float32       \n 20  interestAndDebtExpense             20 non-null     float32       \n 21  netIncomeFromContinuingOperations  20 non-null     float32       \n 22  comprehensiveIncomeNetOfTax        20 non-null     float32       \n 23  ebit                               20 non-null     float32       \n 24  ebitda                             20 non-null     float32       \n 25  netIncome                          20 non-null     float32       \ndtypes: datetime64[ns](1), float32(24), string(1)\nmemory usage: 2.3 KB\n"
     ]
    }
   ],
   "source": [
    "df.info()"
   ]
  },
  {
   "cell_type": "code",
   "execution_count": 18,
   "metadata": {},
   "outputs": [
    {
     "output_type": "execute_result",
     "data": {
      "text/plain": [
       "  ticker fiscalDateEnding   grossProfit  totalRevenue  costOfRevenue  \\\n",
       "0    IBM       2016-06-30  9.702000e+09  2.023800e+10   1.053600e+10   \n",
       "1    IBM       2016-09-30  9.013000e+09  1.922600e+10   1.021300e+10   \n",
       "2    IBM       2016-12-31  1.111500e+10  2.177000e+10   1.065500e+10   \n",
       "3    IBM       2017-03-31  7.944000e+09  1.815500e+10   1.021100e+10   \n",
       "4    IBM       2017-06-30  8.967999e+09  1.928900e+10   1.032100e+10   \n",
       "\n",
       "   costofGoodsAndServicesSold  operatingIncome  \\\n",
       "0                1.053600e+10     2.490000e+09   \n",
       "1                1.021300e+10     2.515000e+09   \n",
       "2                1.087700e+10     4.755000e+09   \n",
       "3                1.038300e+10     1.043000e+09   \n",
       "4                1.049500e+10     2.111000e+09   \n",
       "\n",
       "   sellingGeneralAndAdministrative  researchAndDevelopment  operatingExpenses  \\\n",
       "0                     5.349000e+09            1.465000e+09       7.212000e+09   \n",
       "1                     4.732000e+09            1.397000e+09       6.498000e+09   \n",
       "2                     4.776000e+09            1.406000e+09       6.360000e+09   \n",
       "3                     5.027000e+09            1.484000e+09       6.901000e+09   \n",
       "4                     5.033000e+09            1.436000e+09       6.857000e+09   \n",
       "\n",
       "   ...  depreciation  depreciationAndAmortization  incomeBeforeTax  \\\n",
       "0  ...   705000000.0                  398000000.0     3.048000e+09   \n",
       "1  ...   724000000.0                  403000000.0     3.262000e+09   \n",
       "2  ...   731000000.0                  396000000.0     4.981000e+09   \n",
       "3  ...   709000000.0                  390000000.0     1.421000e+09   \n",
       "4  ...   730000000.0                  388000000.0     2.442000e+09   \n",
       "\n",
       "   incomeTaxExpense  interestAndDebtExpense  \\\n",
       "0       544000000.0             167000000.0   \n",
       "1       409000000.0             158000000.0   \n",
       "2       480000000.0             157000000.0   \n",
       "3      -329000000.0             135000000.0   \n",
       "4       111000000.0             147000000.0   \n",
       "\n",
       "   netIncomeFromContinuingOperations  comprehensiveIncomeNetOfTax  \\\n",
       "0                       2.505000e+09                 2.899000e+09   \n",
       "1                       2.854000e+09                 3.293000e+09   \n",
       "2                       4.506000e+09                 3.268000e+09   \n",
       "3                       1.753000e+09                 2.438000e+09   \n",
       "4                       2.332000e+09                 2.852000e+09   \n",
       "\n",
       "           ebit        ebitda     netIncome  \n",
       "0  2.490000e+09  2.888000e+09  2.504000e+09  \n",
       "1  2.515000e+09  2.918000e+09  2.853000e+09  \n",
       "2  4.755000e+09  5.151000e+09  4.501000e+09  \n",
       "3  1.043000e+09  1.433000e+09  1.750000e+09  \n",
       "4  2.111000e+09  2.499000e+09  2.331000e+09  \n",
       "\n",
       "[5 rows x 26 columns]"
      ],
      "text/html": "<div>\n<style scoped>\n    .dataframe tbody tr th:only-of-type {\n        vertical-align: middle;\n    }\n\n    .dataframe tbody tr th {\n        vertical-align: top;\n    }\n\n    .dataframe thead th {\n        text-align: right;\n    }\n</style>\n<table border=\"1\" class=\"dataframe\">\n  <thead>\n    <tr style=\"text-align: right;\">\n      <th></th>\n      <th>ticker</th>\n      <th>fiscalDateEnding</th>\n      <th>grossProfit</th>\n      <th>totalRevenue</th>\n      <th>costOfRevenue</th>\n      <th>costofGoodsAndServicesSold</th>\n      <th>operatingIncome</th>\n      <th>sellingGeneralAndAdministrative</th>\n      <th>researchAndDevelopment</th>\n      <th>operatingExpenses</th>\n      <th>...</th>\n      <th>depreciation</th>\n      <th>depreciationAndAmortization</th>\n      <th>incomeBeforeTax</th>\n      <th>incomeTaxExpense</th>\n      <th>interestAndDebtExpense</th>\n      <th>netIncomeFromContinuingOperations</th>\n      <th>comprehensiveIncomeNetOfTax</th>\n      <th>ebit</th>\n      <th>ebitda</th>\n      <th>netIncome</th>\n    </tr>\n  </thead>\n  <tbody>\n    <tr>\n      <th>0</th>\n      <td>IBM</td>\n      <td>2016-06-30</td>\n      <td>9.702000e+09</td>\n      <td>2.023800e+10</td>\n      <td>1.053600e+10</td>\n      <td>1.053600e+10</td>\n      <td>2.490000e+09</td>\n      <td>5.349000e+09</td>\n      <td>1.465000e+09</td>\n      <td>7.212000e+09</td>\n      <td>...</td>\n      <td>705000000.0</td>\n      <td>398000000.0</td>\n      <td>3.048000e+09</td>\n      <td>544000000.0</td>\n      <td>167000000.0</td>\n      <td>2.505000e+09</td>\n      <td>2.899000e+09</td>\n      <td>2.490000e+09</td>\n      <td>2.888000e+09</td>\n      <td>2.504000e+09</td>\n    </tr>\n    <tr>\n      <th>1</th>\n      <td>IBM</td>\n      <td>2016-09-30</td>\n      <td>9.013000e+09</td>\n      <td>1.922600e+10</td>\n      <td>1.021300e+10</td>\n      <td>1.021300e+10</td>\n      <td>2.515000e+09</td>\n      <td>4.732000e+09</td>\n      <td>1.397000e+09</td>\n      <td>6.498000e+09</td>\n      <td>...</td>\n      <td>724000000.0</td>\n      <td>403000000.0</td>\n      <td>3.262000e+09</td>\n      <td>409000000.0</td>\n      <td>158000000.0</td>\n      <td>2.854000e+09</td>\n      <td>3.293000e+09</td>\n      <td>2.515000e+09</td>\n      <td>2.918000e+09</td>\n      <td>2.853000e+09</td>\n    </tr>\n    <tr>\n      <th>2</th>\n      <td>IBM</td>\n      <td>2016-12-31</td>\n      <td>1.111500e+10</td>\n      <td>2.177000e+10</td>\n      <td>1.065500e+10</td>\n      <td>1.087700e+10</td>\n      <td>4.755000e+09</td>\n      <td>4.776000e+09</td>\n      <td>1.406000e+09</td>\n      <td>6.360000e+09</td>\n      <td>...</td>\n      <td>731000000.0</td>\n      <td>396000000.0</td>\n      <td>4.981000e+09</td>\n      <td>480000000.0</td>\n      <td>157000000.0</td>\n      <td>4.506000e+09</td>\n      <td>3.268000e+09</td>\n      <td>4.755000e+09</td>\n      <td>5.151000e+09</td>\n      <td>4.501000e+09</td>\n    </tr>\n    <tr>\n      <th>3</th>\n      <td>IBM</td>\n      <td>2017-03-31</td>\n      <td>7.944000e+09</td>\n      <td>1.815500e+10</td>\n      <td>1.021100e+10</td>\n      <td>1.038300e+10</td>\n      <td>1.043000e+09</td>\n      <td>5.027000e+09</td>\n      <td>1.484000e+09</td>\n      <td>6.901000e+09</td>\n      <td>...</td>\n      <td>709000000.0</td>\n      <td>390000000.0</td>\n      <td>1.421000e+09</td>\n      <td>-329000000.0</td>\n      <td>135000000.0</td>\n      <td>1.753000e+09</td>\n      <td>2.438000e+09</td>\n      <td>1.043000e+09</td>\n      <td>1.433000e+09</td>\n      <td>1.750000e+09</td>\n    </tr>\n    <tr>\n      <th>4</th>\n      <td>IBM</td>\n      <td>2017-06-30</td>\n      <td>8.967999e+09</td>\n      <td>1.928900e+10</td>\n      <td>1.032100e+10</td>\n      <td>1.049500e+10</td>\n      <td>2.111000e+09</td>\n      <td>5.033000e+09</td>\n      <td>1.436000e+09</td>\n      <td>6.857000e+09</td>\n      <td>...</td>\n      <td>730000000.0</td>\n      <td>388000000.0</td>\n      <td>2.442000e+09</td>\n      <td>111000000.0</td>\n      <td>147000000.0</td>\n      <td>2.332000e+09</td>\n      <td>2.852000e+09</td>\n      <td>2.111000e+09</td>\n      <td>2.499000e+09</td>\n      <td>2.331000e+09</td>\n    </tr>\n  </tbody>\n</table>\n<p>5 rows × 26 columns</p>\n</div>"
     },
     "metadata": {},
     "execution_count": 18
    }
   ],
   "source": [
    "df.head()"
   ]
  },
  {
   "cell_type": "markdown",
   "metadata": {},
   "source": [
    "## Prepare Function"
   ]
  },
  {
   "cell_type": "code",
   "execution_count": 19,
   "metadata": {},
   "outputs": [],
   "source": [
    "def prep_financial_report(df):\n",
    "    '''\n",
    "    \n",
    "    '''\n",
    "    date_col = df.columns[1]\n",
    "    numeric_cols = df.columns[2:]\n",
    "\n",
    "    df[date_col] = pd.to_datetime(df.loc[:,date_col])\n",
    "    df[numeric_cols] = df.loc[:, numeric_cols].apply(pd.to_numeric,\n",
    "                                                     downcast='float',\n",
    "                                                     errors='coerce')\n",
    "    df.fillna(0, inplace=True)\n",
    "    \n",
    "    return df"
   ]
  },
  {
   "cell_type": "code",
   "execution_count": 20,
   "metadata": {},
   "outputs": [],
   "source": [
    "df_acquire = src.get_financial_data()\n",
    "df_prep = prep_financial_report(df_acquire)"
   ]
  },
  {
   "cell_type": "code",
   "execution_count": 21,
   "metadata": {},
   "outputs": [
    {
     "output_type": "stream",
     "name": "stdout",
     "text": [
      "<class 'pandas.core.frame.DataFrame'>\nRangeIndex: 20 entries, 0 to 19\nData columns (total 26 columns):\n #   Column                             Non-Null Count  Dtype         \n---  ------                             --------------  -----         \n 0   ticker                             20 non-null     string        \n 1   fiscalDateEnding                   20 non-null     datetime64[ns]\n 2   grossProfit                        20 non-null     float32       \n 3   totalRevenue                       20 non-null     float32       \n 4   costOfRevenue                      20 non-null     float32       \n 5   costofGoodsAndServicesSold         20 non-null     float32       \n 6   operatingIncome                    20 non-null     float32       \n 7   sellingGeneralAndAdministrative    20 non-null     float32       \n 8   researchAndDevelopment             20 non-null     float32       \n 9   operatingExpenses                  20 non-null     float32       \n 10  investmentIncomeNet                20 non-null     float32       \n 11  netInterestIncome                  20 non-null     float32       \n 12  interestIncome                     20 non-null     float32       \n 13  interestExpense                    20 non-null     float32       \n 14  nonInterestIncome                  20 non-null     float32       \n 15  otherNonOperatingIncome            20 non-null     float32       \n 16  depreciation                       20 non-null     float32       \n 17  depreciationAndAmortization        20 non-null     float32       \n 18  incomeBeforeTax                    20 non-null     float32       \n 19  incomeTaxExpense                   20 non-null     float32       \n 20  interestAndDebtExpense             20 non-null     float32       \n 21  netIncomeFromContinuingOperations  20 non-null     float32       \n 22  comprehensiveIncomeNetOfTax        20 non-null     float32       \n 23  ebit                               20 non-null     float32       \n 24  ebitda                             20 non-null     float32       \n 25  netIncome                          20 non-null     float32       \ndtypes: datetime64[ns](1), float32(24), string(1)\nmemory usage: 2.3 KB\n"
     ]
    }
   ],
   "source": [
    "df_prep.info()"
   ]
  },
  {
   "cell_type": "markdown",
   "metadata": {},
   "source": [
    "## Connect to a SQL Database"
   ]
  },
  {
   "cell_type": "code",
   "execution_count": 22,
   "metadata": {},
   "outputs": [],
   "source": [
    "cnx = mysql.connector.connect(**src.config)\n",
    "\n",
    "cursor = cnx.cursor(buffered=True)"
   ]
  },
  {
   "cell_type": "code",
   "execution_count": 23,
   "metadata": {},
   "outputs": [
    {
     "output_type": "execute_result",
     "data": {
      "text/plain": [
       "True"
      ]
     },
     "metadata": {},
     "execution_count": 23
    }
   ],
   "source": [
    "cnx.is_connected()"
   ]
  },
  {
   "cell_type": "code",
   "execution_count": 25,
   "metadata": {},
   "outputs": [
    {
     "output_type": "execute_result",
     "data": {
      "text/plain": [
       "    Code          Name      Continent                     Region  SurfaceArea  \\\n",
       "0    ABW         Aruba  North America                  Caribbean        193.0   \n",
       "1    AFG   Afghanistan           Asia  Southern and Central Asia     652090.0   \n",
       "2    AGO        Angola         Africa             Central Africa    1246700.0   \n",
       "3    AIA      Anguilla  North America                  Caribbean         96.0   \n",
       "4    ALB       Albania         Europe            Southern Europe      28748.0   \n",
       "..   ...           ...            ...                        ...          ...   \n",
       "234  YEM         Yemen           Asia                Middle East     527968.0   \n",
       "235  YUG    Yugoslavia         Europe            Southern Europe     102173.0   \n",
       "236  ZAF  South Africa         Africa            Southern Africa    1221037.0   \n",
       "237  ZMB        Zambia         Africa             Eastern Africa     752618.0   \n",
       "238  ZWE      Zimbabwe         Africa             Eastern Africa     390757.0   \n",
       "\n",
       "     IndepYear  Population  LifeExpectancy       GNP    GNPOld  \\\n",
       "0          NaN      103000            78.4     828.0     793.0   \n",
       "1       1919.0    22720000            45.9    5976.0       NaN   \n",
       "2       1975.0    12878000            38.3    6648.0    7984.0   \n",
       "3          NaN        8000            76.1      63.2       NaN   \n",
       "4       1912.0     3401200            71.6    3205.0    2500.0   \n",
       "..         ...         ...             ...       ...       ...   \n",
       "234     1918.0    18112000            59.8    6041.0    5729.0   \n",
       "235     1918.0    10640000            72.4   17000.0       NaN   \n",
       "236     1910.0    40377000            51.1  116729.0  129092.0   \n",
       "237     1964.0     9169000            37.2    3377.0    3922.0   \n",
       "238     1980.0    11669000            37.8    5951.0    8670.0   \n",
       "\n",
       "                 LocalName                                GovernmentForm  \\\n",
       "0                    Aruba  Nonmetropolitan Territory of The Netherlands   \n",
       "1    Afganistan/Afqanestan                               Islamic Emirate   \n",
       "2                   Angola                                      Republic   \n",
       "3                 Anguilla                 Dependent Territory of the UK   \n",
       "4               ShqipÃ«ria                                      Republic   \n",
       "..                     ...                                           ...   \n",
       "234               Al-Yaman                                      Republic   \n",
       "235            Jugoslavija                              Federal Republic   \n",
       "236           South Africa                                      Republic   \n",
       "237                 Zambia                                      Republic   \n",
       "238               Zimbabwe                                      Republic   \n",
       "\n",
       "                  HeadOfState  Capital Code2  \n",
       "0                     Beatrix    129.0    AW  \n",
       "1               Mohammad Omar      1.0    AF  \n",
       "2    JosÃ© Eduardo dos Santos     56.0    AO  \n",
       "3                Elisabeth II     62.0    AI  \n",
       "4              Rexhep Mejdani     34.0    AL  \n",
       "..                        ...      ...   ...  \n",
       "234        Ali Abdallah Salih   1780.0    YE  \n",
       "235       Vojislav KoÂštunica   1792.0    YU  \n",
       "236               Thabo Mbeki    716.0    ZA  \n",
       "237         Frederick Chiluba   3162.0    ZM  \n",
       "238          Robert G. Mugabe   4068.0    ZW  \n",
       "\n",
       "[239 rows x 15 columns]"
      ],
      "text/html": "<div>\n<style scoped>\n    .dataframe tbody tr th:only-of-type {\n        vertical-align: middle;\n    }\n\n    .dataframe tbody tr th {\n        vertical-align: top;\n    }\n\n    .dataframe thead th {\n        text-align: right;\n    }\n</style>\n<table border=\"1\" class=\"dataframe\">\n  <thead>\n    <tr style=\"text-align: right;\">\n      <th></th>\n      <th>Code</th>\n      <th>Name</th>\n      <th>Continent</th>\n      <th>Region</th>\n      <th>SurfaceArea</th>\n      <th>IndepYear</th>\n      <th>Population</th>\n      <th>LifeExpectancy</th>\n      <th>GNP</th>\n      <th>GNPOld</th>\n      <th>LocalName</th>\n      <th>GovernmentForm</th>\n      <th>HeadOfState</th>\n      <th>Capital</th>\n      <th>Code2</th>\n    </tr>\n  </thead>\n  <tbody>\n    <tr>\n      <th>0</th>\n      <td>ABW</td>\n      <td>Aruba</td>\n      <td>North America</td>\n      <td>Caribbean</td>\n      <td>193.0</td>\n      <td>NaN</td>\n      <td>103000</td>\n      <td>78.4</td>\n      <td>828.0</td>\n      <td>793.0</td>\n      <td>Aruba</td>\n      <td>Nonmetropolitan Territory of The Netherlands</td>\n      <td>Beatrix</td>\n      <td>129.0</td>\n      <td>AW</td>\n    </tr>\n    <tr>\n      <th>1</th>\n      <td>AFG</td>\n      <td>Afghanistan</td>\n      <td>Asia</td>\n      <td>Southern and Central Asia</td>\n      <td>652090.0</td>\n      <td>1919.0</td>\n      <td>22720000</td>\n      <td>45.9</td>\n      <td>5976.0</td>\n      <td>NaN</td>\n      <td>Afganistan/Afqanestan</td>\n      <td>Islamic Emirate</td>\n      <td>Mohammad Omar</td>\n      <td>1.0</td>\n      <td>AF</td>\n    </tr>\n    <tr>\n      <th>2</th>\n      <td>AGO</td>\n      <td>Angola</td>\n      <td>Africa</td>\n      <td>Central Africa</td>\n      <td>1246700.0</td>\n      <td>1975.0</td>\n      <td>12878000</td>\n      <td>38.3</td>\n      <td>6648.0</td>\n      <td>7984.0</td>\n      <td>Angola</td>\n      <td>Republic</td>\n      <td>JosÃ© Eduardo dos Santos</td>\n      <td>56.0</td>\n      <td>AO</td>\n    </tr>\n    <tr>\n      <th>3</th>\n      <td>AIA</td>\n      <td>Anguilla</td>\n      <td>North America</td>\n      <td>Caribbean</td>\n      <td>96.0</td>\n      <td>NaN</td>\n      <td>8000</td>\n      <td>76.1</td>\n      <td>63.2</td>\n      <td>NaN</td>\n      <td>Anguilla</td>\n      <td>Dependent Territory of the UK</td>\n      <td>Elisabeth II</td>\n      <td>62.0</td>\n      <td>AI</td>\n    </tr>\n    <tr>\n      <th>4</th>\n      <td>ALB</td>\n      <td>Albania</td>\n      <td>Europe</td>\n      <td>Southern Europe</td>\n      <td>28748.0</td>\n      <td>1912.0</td>\n      <td>3401200</td>\n      <td>71.6</td>\n      <td>3205.0</td>\n      <td>2500.0</td>\n      <td>ShqipÃ«ria</td>\n      <td>Republic</td>\n      <td>Rexhep Mejdani</td>\n      <td>34.0</td>\n      <td>AL</td>\n    </tr>\n    <tr>\n      <th>...</th>\n      <td>...</td>\n      <td>...</td>\n      <td>...</td>\n      <td>...</td>\n      <td>...</td>\n      <td>...</td>\n      <td>...</td>\n      <td>...</td>\n      <td>...</td>\n      <td>...</td>\n      <td>...</td>\n      <td>...</td>\n      <td>...</td>\n      <td>...</td>\n      <td>...</td>\n    </tr>\n    <tr>\n      <th>234</th>\n      <td>YEM</td>\n      <td>Yemen</td>\n      <td>Asia</td>\n      <td>Middle East</td>\n      <td>527968.0</td>\n      <td>1918.0</td>\n      <td>18112000</td>\n      <td>59.8</td>\n      <td>6041.0</td>\n      <td>5729.0</td>\n      <td>Al-Yaman</td>\n      <td>Republic</td>\n      <td>Ali Abdallah Salih</td>\n      <td>1780.0</td>\n      <td>YE</td>\n    </tr>\n    <tr>\n      <th>235</th>\n      <td>YUG</td>\n      <td>Yugoslavia</td>\n      <td>Europe</td>\n      <td>Southern Europe</td>\n      <td>102173.0</td>\n      <td>1918.0</td>\n      <td>10640000</td>\n      <td>72.4</td>\n      <td>17000.0</td>\n      <td>NaN</td>\n      <td>Jugoslavija</td>\n      <td>Federal Republic</td>\n      <td>Vojislav KoÂštunica</td>\n      <td>1792.0</td>\n      <td>YU</td>\n    </tr>\n    <tr>\n      <th>236</th>\n      <td>ZAF</td>\n      <td>South Africa</td>\n      <td>Africa</td>\n      <td>Southern Africa</td>\n      <td>1221037.0</td>\n      <td>1910.0</td>\n      <td>40377000</td>\n      <td>51.1</td>\n      <td>116729.0</td>\n      <td>129092.0</td>\n      <td>South Africa</td>\n      <td>Republic</td>\n      <td>Thabo Mbeki</td>\n      <td>716.0</td>\n      <td>ZA</td>\n    </tr>\n    <tr>\n      <th>237</th>\n      <td>ZMB</td>\n      <td>Zambia</td>\n      <td>Africa</td>\n      <td>Eastern Africa</td>\n      <td>752618.0</td>\n      <td>1964.0</td>\n      <td>9169000</td>\n      <td>37.2</td>\n      <td>3377.0</td>\n      <td>3922.0</td>\n      <td>Zambia</td>\n      <td>Republic</td>\n      <td>Frederick Chiluba</td>\n      <td>3162.0</td>\n      <td>ZM</td>\n    </tr>\n    <tr>\n      <th>238</th>\n      <td>ZWE</td>\n      <td>Zimbabwe</td>\n      <td>Africa</td>\n      <td>Eastern Africa</td>\n      <td>390757.0</td>\n      <td>1980.0</td>\n      <td>11669000</td>\n      <td>37.8</td>\n      <td>5951.0</td>\n      <td>8670.0</td>\n      <td>Zimbabwe</td>\n      <td>Republic</td>\n      <td>Robert G. Mugabe</td>\n      <td>4068.0</td>\n      <td>ZW</td>\n    </tr>\n  </tbody>\n</table>\n<p>239 rows × 15 columns</p>\n</div>"
     },
     "metadata": {},
     "execution_count": 25
    }
   ],
   "source": [
    "pd.read_sql(\"\"\"SELECT * FROM country;\"\"\", cnx)"
   ]
  }
 ],
 "metadata": {
  "kernelspec": {
   "name": "python388jvsc74a57bd07c38827dc8ea6b34719f2b59ae9fca850e98b140ec82bf5ad0ee2538164e43ec",
   "display_name": "Python 3.8.8 64-bit ('base': conda)"
  },
  "language_info": {
   "codemirror_mode": {
    "name": "ipython",
    "version": 3
   },
   "file_extension": ".py",
   "mimetype": "text/x-python",
   "name": "python",
   "nbconvert_exporter": "python",
   "pygments_lexer": "ipython3",
   "version": "3.8.8"
  }
 },
 "nbformat": 4,
 "nbformat_minor": 2
}